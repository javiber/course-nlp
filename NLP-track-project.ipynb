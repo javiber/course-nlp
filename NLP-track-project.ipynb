{
 "cells": [
  {
   "cell_type": "markdown",
   "metadata": {},
   "source": [
    "# NLP track project\n",
    "\n",
    "\n",
    "The goal of this project is to guide you through the latest techniques in NLP, we have chosen to frame that journey around the problem of *Neural Machine Translation (NMT)*, More specifically english-spanish translation. \n",
    "\n",
    "The motivation for centering around this particular problem is that it's a complex one that has been revolutionized lately. So It will guide you from the basics to the latest SoA techniques.\n",
    "\n",
    "The reason we choose English and Spanish is purely because we happen to know both of them, if you would like to explore other language feel free to do so but make sure you have a proper dataset that you can use."
   ]
  },
  {
   "cell_type": "markdown",
   "metadata": {},
   "source": [
    "## 1. Baseline\n",
    "\n",
    "As a baseline we will first train a simple encoder-decoder architecture. The code is based on the [seq2seq notebook](https://github.com/fastai/course-nlp/blob/master/7-seq2seq-translation.ipynb) from the [lesson 12](https://www.youtube.com/watch?v=IfsjMg4fLWQ&list=PLtmWHNX-gukKocXQOkQjuVxglSDYWsSh9&index=13&t=0s) of the Fast.ai's NLP course."
   ]
  },
  {
   "cell_type": "markdown",
   "metadata": {},
   "source": [
    "### 1.1 Dataset\n",
    "\n",
    "The dataset we will use was build by [Open Subtitles](https://www.opensubtitles.org/) and consists of movie and series subtitles, we chose this dataset over the alternatives because it contains casual and more simple language than the alternatives (UN resolutions, EU parlament sessions, etc). You can look at the alternatives on this [amazing site](http://opus.nlpl.eu/).\n",
    "\n",
    "Unfurtunately the spanish used is from Spain, not sure why the Latin American version of the subtitles is not available.\n",
    "\n",
    "The dataset is extremely large and not in a great format, you can see how we processed it on [this notebook](./subtitles-download.ipynb). There is no need to run it, ask for the csv file with the final result."
   ]
  },
  {
   "cell_type": "code",
   "execution_count": 1,
   "metadata": {},
   "outputs": [
    {
     "data": {
      "text/plain": [
       "'GeForce GTX 980 Ti'"
      ]
     },
     "execution_count": 1,
     "metadata": {},
     "output_type": "execute_result"
    }
   ],
   "source": [
    "import pandas as pd\n",
    "from fastai.text import *\n",
    "\n",
    "base_path = Path('/data/NLP_track/')\n",
    "\n",
    "torch.cuda.set_device(0)\n",
    "torch.cuda.get_device_name(torch.cuda.current_device())"
   ]
  },
  {
   "cell_type": "code",
   "execution_count": 2,
   "metadata": {},
   "outputs": [
    {
     "name": "stderr",
     "output_type": "stream",
     "text": [
      "/home/javiber/.local/share/virtualenvs/javiber-jarMRqt3/lib/python3.6/site-packages/IPython/core/interactiveshell.py:3058: DtypeWarning: Columns (1) have mixed types. Specify dtype option on import or set low_memory=False.\n",
      "  interactivity=interactivity, compiler=compiler, result=result)\n"
     ]
    }
   ],
   "source": [
    "df = pd.read_csv(base_path/'subtitles.csv')"
   ]
  },
  {
   "cell_type": "code",
   "execution_count": 3,
   "metadata": {
    "scrolled": true
   },
   "outputs": [
    {
     "name": "stdout",
     "output_type": "stream",
     "text": [
      "7990657\n"
     ]
    },
    {
     "data": {
      "text/html": [
       "<div>\n",
       "<style scoped>\n",
       "    .dataframe tbody tr th:only-of-type {\n",
       "        vertical-align: middle;\n",
       "    }\n",
       "\n",
       "    .dataframe tbody tr th {\n",
       "        vertical-align: top;\n",
       "    }\n",
       "\n",
       "    .dataframe thead th {\n",
       "        text-align: right;\n",
       "    }\n",
       "</style>\n",
       "<table border=\"1\" class=\"dataframe\">\n",
       "  <thead>\n",
       "    <tr style=\"text-align: right;\">\n",
       "      <th></th>\n",
       "      <th>files</th>\n",
       "      <th>sub_id</th>\n",
       "      <th>en</th>\n",
       "      <th>es</th>\n",
       "    </tr>\n",
       "  </thead>\n",
       "  <tbody>\n",
       "    <tr>\n",
       "      <th>2386520</th>\n",
       "      <td>en/2010/1570179/3663037.xml#es/2010/1570179/36...</td>\n",
       "      <td>112</td>\n",
       "      <td>But I 'm hoping they 'll be more cooperative w...</td>\n",
       "      <td>Pero espero que sean más cooperativos cuando s...</td>\n",
       "    </tr>\n",
       "    <tr>\n",
       "      <th>998663</th>\n",
       "      <td>en/2002/512294/5895863.xml#es/2002/512294/5179...</td>\n",
       "      <td>535</td>\n",
       "      <td>You came back for me .</td>\n",
       "      <td>Volviste por mí .</td>\n",
       "    </tr>\n",
       "    <tr>\n",
       "      <th>989442</th>\n",
       "      <td>en/2002/512254/5235403.xml#es/2002/512254/5183...</td>\n",
       "      <td>782</td>\n",
       "      <td>He 's not going to be all right .</td>\n",
       "      <td>Él no va a estar bien .</td>\n",
       "    </tr>\n",
       "    <tr>\n",
       "      <th>1303299</th>\n",
       "      <td>en/2005/749711/178777.xml#es/2005/749711/40301...</td>\n",
       "      <td>570</td>\n",
       "      <td>I 'm fine .</td>\n",
       "      <td>Estaré bien .</td>\n",
       "    </tr>\n",
       "    <tr>\n",
       "      <th>3217283</th>\n",
       "      <td>en/2011/1832848/4659172.xml#es/2011/1832848/51...</td>\n",
       "      <td>544</td>\n",
       "      <td>At this point in time , I 'm pretty worried .</td>\n",
       "      <td>A esta altura , estoy preocupado .</td>\n",
       "    </tr>\n",
       "  </tbody>\n",
       "</table>\n",
       "</div>"
      ],
      "text/plain": [
       "                                                     files sub_id  \\\n",
       "2386520  en/2010/1570179/3663037.xml#es/2010/1570179/36...    112   \n",
       "998663   en/2002/512294/5895863.xml#es/2002/512294/5179...    535   \n",
       "989442   en/2002/512254/5235403.xml#es/2002/512254/5183...    782   \n",
       "1303299  en/2005/749711/178777.xml#es/2005/749711/40301...    570   \n",
       "3217283  en/2011/1832848/4659172.xml#es/2011/1832848/51...    544   \n",
       "\n",
       "                                                        en  \\\n",
       "2386520  But I 'm hoping they 'll be more cooperative w...   \n",
       "998663                              You came back for me .   \n",
       "989442                   He 's not going to be all right .   \n",
       "1303299                                        I 'm fine .   \n",
       "3217283      At this point in time , I 'm pretty worried .   \n",
       "\n",
       "                                                        es  \n",
       "2386520  Pero espero que sean más cooperativos cuando s...  \n",
       "998663                                   Volviste por mí .  \n",
       "989442                             Él no va a estar bien .  \n",
       "1303299                                      Estaré bien .  \n",
       "3217283                 A esta altura , estoy preocupado .  "
      ]
     },
     "execution_count": 3,
     "metadata": {},
     "output_type": "execute_result"
    }
   ],
   "source": [
    "print(len(df))\n",
    "df.sample(5)"
   ]
  },
  {
   "cell_type": "code",
   "execution_count": 4,
   "metadata": {},
   "outputs": [
    {
     "data": {
      "text/plain": [
       "files     0\n",
       "sub_id    0\n",
       "en        8\n",
       "es        6\n",
       "dtype: int64"
      ]
     },
     "execution_count": 4,
     "metadata": {},
     "output_type": "execute_result"
    }
   ],
   "source": [
    "df.isna().sum()"
   ]
  },
  {
   "cell_type": "code",
   "execution_count": 3,
   "metadata": {},
   "outputs": [
    {
     "data": {
      "text/plain": [
       "files     0\n",
       "sub_id    0\n",
       "en        0\n",
       "es        0\n",
       "dtype: int64"
      ]
     },
     "execution_count": 3,
     "metadata": {},
     "output_type": "execute_result"
    }
   ],
   "source": [
    "df.dropna(inplace=True)\n",
    "df.isna().sum()"
   ]
  },
  {
   "cell_type": "code",
   "execution_count": 4,
   "metadata": {},
   "outputs": [],
   "source": [
    "df = df.sample(50000, random_state=42)"
   ]
  },
  {
   "cell_type": "markdown",
   "metadata": {
    "heading_collapsed": true
   },
   "source": [
    "### 1.2 Tokenization and Numericalization\n",
    "\n",
    "Unfurtunately the dataset was already tokenized, that's why you see spaces around punctuation marks. Not a big deal but we'd have rather the raw messages.\n",
    "\n",
    "Anyway for this baseline we will use the default settings from fast.ai which is to use spaCy's tokenizer."
   ]
  },
  {
   "cell_type": "markdown",
   "metadata": {
    "hidden": true
   },
   "source": [
    "#### 1.2.1 Data collate\n",
    "\n",
    "In order to run the RNN in parallel for a whole batch, all examples in a batch must have the same size. \n",
    "To accomplish this we'll add padding where necessary. \n",
    "\n",
    "Fast.ai has a [collate](https://docs.fast.ai/text.data.html#pad_collate) that does something similar but just in the Xs because is meant to be used on sentence classification, on seq2seq we need to padd both Xs and Ys."
   ]
  },
  {
   "cell_type": "code",
   "execution_count": 2,
   "metadata": {
    "code_folding": [
     0
    ],
    "hidden": true
   },
   "outputs": [],
   "source": [
    "def seq2seq_collate(samples, pad_idx=1, pad_first=True, backwards=False):\n",
    "    \"Function that collect samples and adds padding. Flips token order if needed\"\n",
    "    samples = to_data(samples)\n",
    "    max_len_x = max([len(s[0]) for s in samples])\n",
    "    max_len_y = max([len(s[1]) for s in samples])\n",
    "    \n",
    "    # create matrices of the target size we want (batch_lenght x max_sentence_lenght_in_batch) full of padding\n",
    "    res_x = torch.zeros(len(samples), max_len_x).long() + pad_idx\n",
    "    res_y = torch.zeros(len(samples), max_len_y).long() + pad_idx\n",
    "    \n",
    "    if backwards: \n",
    "        pad_first = not pad_first\n",
    "    \n",
    "    for i, s in enumerate(samples):\n",
    "        # replace the part of the correct part of the padded matrices with the actual values\n",
    "        if pad_first: \n",
    "            res_x[i, -len(s[0]):] = LongTensor(s[0])\n",
    "            res_y[i, -len(s[1]):] = LongTensor(s[1])\n",
    "        else:         \n",
    "            res_x[i,:len(s[0]):] = LongTensor(s[0])\n",
    "            res_y[i,:len(s[1]):] = LongTensor(s[1])\n",
    "            \n",
    "    if backwards: \n",
    "        res_x,res_y = res_x.flip(1),res_y.flip(1)\n",
    "    \n",
    "    return res_x,res_y"
   ]
  },
  {
   "cell_type": "markdown",
   "metadata": {
    "heading_collapsed": true,
    "hidden": true
   },
   "source": [
    "#### 1.2.2 Custom databunch\n",
    "\n",
    "On the training set, we don't want to mix really long senteces with really short because that'd create lots of padding, instead we'll use fast.ai's `SortishSampler` to keep the sentences of a batch relatively the same size while also having some randomization."
   ]
  },
  {
   "cell_type": "code",
   "execution_count": 3,
   "metadata": {
    "code_folding": [],
    "hidden": true
   },
   "outputs": [],
   "source": [
    "class Seq2SeqDataBunch(TextDataBunch):\n",
    "    \"Create a `TextDataBunch` suitable for training an RNN classifier.\"\n",
    "    \n",
    "    @classmethod\n",
    "    def create(\n",
    "            cls, train_ds, valid_ds, test_ds=None, path:PathOrStr='.', bs:int=32, val_bs:int=None, pad_idx=1,\n",
    "           dl_tfms=None, pad_first=False, device:torch.device=None, no_check:bool=False, backwards:bool=False, \n",
    "            **dl_kwargs) -> DataBunch:\n",
    "        \"\"\"\n",
    "        Function that transform the `datasets` in a `DataBunch` for classification. \n",
    "        Passes `**dl_kwargs` on to `DataLoader()`\n",
    "        \"\"\"\n",
    "        \n",
    "        datasets = cls._init_ds(train_ds, valid_ds, test_ds)\n",
    "        val_bs = bs if val_bs is None else val_bs \n",
    "        \n",
    "        collate_fn = partial(seq2seq_collate, pad_idx=pad_idx, pad_first=pad_first, backwards=backwards)\n",
    "        \n",
    "        # Sample data randomly but trying to keep the lenghts similar\n",
    "        train_sampler = SortishSampler(datasets[0].x, key=lambda t: len(datasets[0][t][0].data), bs=bs//2)\n",
    "        train_dl = DataLoader(datasets[0], batch_size=bs, sampler=train_sampler, drop_last=True, **dl_kwargs)\n",
    "        dataloaders = [train_dl]\n",
    "        \n",
    "        for ds in datasets[1:]:\n",
    "            lengths = [len(t) for t in ds.x.items]\n",
    "            sampler = SortSampler(ds.x, key=lengths.__getitem__)\n",
    "            \n",
    "            dataloaders.append(DataLoader(ds, batch_size=val_bs, sampler=sampler, **dl_kwargs))\n",
    "            \n",
    "        return cls(*dataloaders, path=path, device=device, collate_fn=collate_fn, no_check=no_check)\n",
    "    \n",
    "    \n",
    "class Seq2SeqTextList(TextList):\n",
    "    _bunch = Seq2SeqDataBunch\n",
    "    _label_cls = TextList"
   ]
  },
  {
   "cell_type": "code",
   "execution_count": 7,
   "metadata": {
    "code_folding": [],
    "hidden": true
   },
   "outputs": [],
   "source": [
    "src = (Seq2SeqTextList\n",
    "       .from_df(df, path=base_path, cols='en')\n",
    "       .split_by_rand_pct(seed=42)\n",
    "       .label_from_df(cols='es', label_cls=TextList))"
   ]
  },
  {
   "cell_type": "markdown",
   "metadata": {
    "heading_collapsed": true,
    "hidden": true
   },
   "source": [
    "#### 1.2.3 Analyze sentence length\n",
    "Some sentences are extremely large so we will remove those outliers"
   ]
  },
  {
   "cell_type": "code",
   "execution_count": 8,
   "metadata": {
    "hidden": true
   },
   "outputs": [
    {
     "data": {
      "text/plain": [
       "(18.0, 81)"
      ]
     },
     "execution_count": 8,
     "metadata": {},
     "output_type": "execute_result"
    }
   ],
   "source": [
    "x_lengths = [len(o) for o in src.train.x.items] + [len(o) for o in src.valid.x.items]\n",
    "np.percentile(x_lengths, 90), np.max(x_lengths)"
   ]
  },
  {
   "cell_type": "code",
   "execution_count": 9,
   "metadata": {
    "hidden": true,
    "scrolled": true
   },
   "outputs": [
    {
     "data": {
      "text/plain": [
       "(17.0, 79)"
      ]
     },
     "execution_count": 9,
     "metadata": {},
     "output_type": "execute_result"
    }
   ],
   "source": [
    "y_lengths = [len(o) for o in src.train.y.items] + [len(o) for o in src.valid.y.items]\n",
    "np.percentile(y_lengths, 90), np.max(y_lengths)"
   ]
  },
  {
   "cell_type": "code",
   "execution_count": null,
   "metadata": {
    "hidden": true
   },
   "outputs": [],
   "source": []
  },
  {
   "cell_type": "code",
   "execution_count": 11,
   "metadata": {
    "hidden": true
   },
   "outputs": [],
   "source": [
    "func = lambda x,y: len(x) > 20 or len(y) > 20\n",
    "filt = array([func(x, y) for x,y in zip(src.x.items, src.y.items)])"
   ]
  },
  {
   "cell_type": "code",
   "execution_count": 16,
   "metadata": {
    "hidden": true
   },
   "outputs": [
    {
     "data": {
      "text/plain": [
       "3197"
      ]
     },
     "execution_count": 16,
     "metadata": {},
     "output_type": "execute_result"
    }
   ],
   "source": [
    "sum(filt)"
   ]
  },
  {
   "cell_type": "code",
   "execution_count": 19,
   "metadata": {
    "hidden": true
   },
   "outputs": [
    {
     "data": {
      "text/plain": [
       "array([   2,    5, 1673, 1050, 1050,   10,   20,   17, 1814,   23,  571,    9])"
      ]
     },
     "execution_count": 19,
     "metadata": {},
     "output_type": "execute_result"
    }
   ],
   "source": [
    "src.x[0].data"
   ]
  },
  {
   "cell_type": "code",
   "execution_count": 14,
   "metadata": {
    "hidden": true
   },
   "outputs": [
    {
     "data": {
      "text/plain": [
       "fastai.data_block.LabelLists"
      ]
     },
     "execution_count": 14,
     "metadata": {},
     "output_type": "execute_result"
    }
   ],
   "source": [
    "type(src)"
   ]
  },
  {
   "cell_type": "code",
   "execution_count": 15,
   "metadata": {
    "hidden": true
   },
   "outputs": [
    {
     "data": {
      "text/plain": [
       "__main__.Seq2SeqTextList"
      ]
     },
     "execution_count": 15,
     "metadata": {},
     "output_type": "execute_result"
    }
   ],
   "source": [
    "type(src.x)"
   ]
  },
  {
   "cell_type": "code",
   "execution_count": null,
   "metadata": {
    "hidden": true
   },
   "outputs": [],
   "source": [
    "fastai"
   ]
  },
  {
   "cell_type": "code",
   "execution_count": 12,
   "metadata": {
    "hidden": true
   },
   "outputs": [],
   "source": [
    "src = src.filter_by_func()"
   ]
  },
  {
   "cell_type": "code",
   "execution_count": 13,
   "metadata": {
    "hidden": true
   },
   "outputs": [
    {
     "data": {
      "text/plain": [
       "45998"
      ]
     },
     "execution_count": 13,
     "metadata": {},
     "output_type": "execute_result"
    }
   ],
   "source": [
    "len(src.train) + len(src.valid)"
   ]
  },
  {
   "cell_type": "markdown",
   "metadata": {
    "heading_collapsed": true,
    "hidden": true
   },
   "source": [
    "#### 1.2.4 Visualize and save dataset"
   ]
  },
  {
   "cell_type": "code",
   "execution_count": 14,
   "metadata": {
    "hidden": true
   },
   "outputs": [],
   "source": [
    "bs = 128"
   ]
  },
  {
   "cell_type": "code",
   "execution_count": 15,
   "metadata": {
    "hidden": true
   },
   "outputs": [],
   "source": [
    "data = src.databunch(bs=bs)"
   ]
  },
  {
   "cell_type": "code",
   "execution_count": 16,
   "metadata": {
    "hidden": true,
    "scrolled": true
   },
   "outputs": [
    {
     "data": {
      "text/html": [
       "<table border=\"1\" class=\"dataframe\">\n",
       "  <thead>\n",
       "    <tr style=\"text-align: right;\">\n",
       "      <th>text</th>\n",
       "      <th>target</th>\n",
       "    </tr>\n",
       "  </thead>\n",
       "  <tbody>\n",
       "    <tr>\n",
       "      <td>xxbos i don ' t like the banks 'cause of the xxunk and the screaming and all the xxunk .</td>\n",
       "      <td>xxbos xxmaj no me gustan los bancos por la xxunk y los gritos y toda la xxunk .</td>\n",
       "    </tr>\n",
       "    <tr>\n",
       "      <td>xxbos - xxmaj okay , all right , that xxunk lost you another week of tv and video xxunk .</td>\n",
       "      <td>xxbos - xxmaj bien , muy bien , esa mentira acaba de xxunk otra semana sin tele o xxunk .</td>\n",
       "    </tr>\n",
       "    <tr>\n",
       "      <td>xxbos xxmaj now , now , xxmaj xxunk - xxmaj xxunk - xxmaj san , please don ' t .</td>\n",
       "      <td>xxbos xxmaj vamos , vamos , xxmaj xxunk - xxmaj xxunk xxmaj san , por favor , no ...</td>\n",
       "    </tr>\n",
       "    <tr>\n",
       "      <td>xxbos xxmaj xxunk xxmaj xxunk has won by around xxunk xxunk votes in his xxunk seat , xxmaj xxunk .</td>\n",
       "      <td>xxbos xxmaj xxunk xxmaj xxunk xxunk aproximadamente xxunk xxunk xxmaj votos su asiento xxunk , xxmaj xxunk .</td>\n",
       "    </tr>\n",
       "    <tr>\n",
       "      <td>xxbos xxmaj almost all the xxunk have been let out of the room , only the actual xxunk remain .</td>\n",
       "      <td>xxbos xxmaj casi todos los espectadores han dejado la sala , solo quedan las partes .</td>\n",
       "    </tr>\n",
       "  </tbody>\n",
       "</table>"
      ],
      "text/plain": [
       "<IPython.core.display.HTML object>"
      ]
     },
     "metadata": {},
     "output_type": "display_data"
    }
   ],
   "source": [
    "data.show_batch()"
   ]
  },
  {
   "cell_type": "markdown",
   "metadata": {
    "hidden": true
   },
   "source": [
    ">**Note:** we didn't tell fast.ai what tokenizer it should use for spanish so it's using the english one"
   ]
  },
  {
   "cell_type": "code",
   "execution_count": 18,
   "metadata": {
    "hidden": true
   },
   "outputs": [],
   "source": [
    "data.save()"
   ]
  },
  {
   "cell_type": "markdown",
   "metadata": {
    "hidden": true
   },
   "source": [
    "#### 1.2.4 Load saved databunch"
   ]
  },
  {
   "cell_type": "code",
   "execution_count": 4,
   "metadata": {
    "hidden": true,
    "scrolled": true
   },
   "outputs": [],
   "source": [
    "data = load_data(base_path, bs=128)"
   ]
  },
  {
   "cell_type": "markdown",
   "metadata": {
    "heading_collapsed": true
   },
   "source": [
    "### 1.3 Embeddings\n",
    "\n",
    "We will use the embedings from [fastText](https://fasttext.cc/docs/en/support.html) because they have pretrained models that are good enough for our baseline."
   ]
  },
  {
   "cell_type": "markdown",
   "metadata": {
    "heading_collapsed": true,
    "hidden": true
   },
   "source": [
    "#### 1.3.1 Download pretrained word vectors"
   ]
  },
  {
   "cell_type": "code",
   "execution_count": null,
   "metadata": {
    "hidden": true
   },
   "outputs": [],
   "source": [
    "# ! wget https://dl.fbaipublicfiles.com/fasttext/vectors-crawl/cc.en.300.bin.gz -P {path}\n",
    "# ! wget https://dl.fbaipublicfiles.com/fasttext/vectors-crawl/cc.es.300.bin.gz -P {path}"
   ]
  },
  {
   "cell_type": "code",
   "execution_count": null,
   "metadata": {
    "hidden": true
   },
   "outputs": [],
   "source": [
    "# ! gunzip {path}/cc.en.300.bin.gz\n",
    "# ! gunzip {path}/cc.es.300.bin.gz"
   ]
  },
  {
   "cell_type": "code",
   "execution_count": 33,
   "metadata": {
    "hidden": true
   },
   "outputs": [],
   "source": [
    "import fasttext as ft"
   ]
  },
  {
   "cell_type": "code",
   "execution_count": 34,
   "metadata": {
    "hidden": true
   },
   "outputs": [
    {
     "name": "stderr",
     "output_type": "stream",
     "text": [
      "\n",
      "\n"
     ]
    }
   ],
   "source": [
    "es_vecs = ft.load_model(str((base_path/'cc.es.300.bin')))\n",
    "en_vecs = ft.load_model(str((base_path/'cc.en.300.bin')))"
   ]
  },
  {
   "cell_type": "code",
   "execution_count": 35,
   "metadata": {
    "hidden": true
   },
   "outputs": [
    {
     "name": "stdout",
     "output_type": "stream",
     "text": [
      "30 missing words\n",
      "36 missing words\n"
     ]
    },
    {
     "data": {
      "text/plain": [
       "(torch.Size([5808, 300]), torch.Size([7104, 300]))"
      ]
     },
     "execution_count": 35,
     "metadata": {},
     "output_type": "execute_result"
    }
   ],
   "source": [
    "def create_emb(vecs, itos, em_sz=300, mult=1.):\n",
    "    emb = nn.Embedding(len(itos), em_sz, padding_idx=1)\n",
    "    wgts = emb.weight.data\n",
    "    vec_dic = {w: vecs.get_word_vector(w) for w in vecs.get_words()}\n",
    "    miss = 0\n",
    "    for i, w in enumerate(itos):\n",
    "        try: \n",
    "            wgts[i] = tensor(vec_dic[w])\n",
    "        except: \n",
    "            miss += 1\n",
    "    print(f'{miss} missing words')\n",
    "    return emb\n",
    "\n",
    "emb_enc = create_emb(en_vecs, data.x.vocab.itos)\n",
    "emb_dec = create_emb(es_vecs, data.y.vocab.itos)\n",
    "\n",
    "emb_enc.weight.size(), emb_dec.weight.size()"
   ]
  },
  {
   "cell_type": "markdown",
   "metadata": {
    "hidden": true
   },
   "source": [
    ">**NOTE**: the words in our vocabulary that are missing on the fastText's one will be set to random vectors"
   ]
  },
  {
   "cell_type": "code",
   "execution_count": 36,
   "metadata": {
    "hidden": true
   },
   "outputs": [],
   "source": [
    "torch.save(emb_enc, base_path/'en_emb.pth')\n",
    "torch.save(emb_dec, base_path/'es_emb.pth')"
   ]
  },
  {
   "cell_type": "markdown",
   "metadata": {
    "hidden": true
   },
   "source": [
    "#### 1.3.2 Load saved embeddings"
   ]
  },
  {
   "cell_type": "code",
   "execution_count": 5,
   "metadata": {
    "hidden": true
   },
   "outputs": [],
   "source": [
    "emb_enc = torch.load(base_path/'en_emb.pth')\n",
    "emb_dec = torch.load(base_path/'es_emb.pth')"
   ]
  },
  {
   "cell_type": "markdown",
   "metadata": {
    "heading_collapsed": true
   },
   "source": [
    "### 1.4 Model\n",
    "\n",
    "The Model we will use is the classic Encoder-Decoder, using a GRU to encode the meaning of the sentence in the original language into a fixed-size vector that the decode will convert into the target language, hopefully conservint the meaning.\n",
    "\n",
    "\n",
    "<center style=\"margin-top: 20px\">\n",
    "    <video src=\"images/enc_dec.mp4\" width=\"80%\" controls autoplay muted loop></video>\n",
    "</center>\n",
    "\n",
    "\n",
    "<center>\n",
    "    <i>Diagram from Jay Alammar's <a href=\"http://jalammar.github.io/visualizing-neural-machine-translation-mechanics-of-seq2seq-models-with-attention/\">Visualizing A Neural Machine Translation Model</a></i></center>"
   ]
  },
  {
   "cell_type": "code",
   "execution_count": 6,
   "metadata": {
    "code_folding": [],
    "hidden": true
   },
   "outputs": [],
   "source": [
    "class EncDecRNN(nn.Module):\n",
    "    def __init__(self, emb_enc, emb_dec, nh, out_sl, nl=2, bos_idx=0, pad_idx=1, tf_weight=0):\n",
    "        super().__init__()\n",
    "        \n",
    "        self.nl, self.nh, self.out_sl = nl, nh, out_sl\n",
    "        self.bos_idx, self.pad_idx = bos_idx, pad_idx\n",
    "        self.em_sz_enc = emb_enc.embedding_dim\n",
    "        self.em_sz_dec = emb_dec.embedding_dim\n",
    "        self.voc_sz_dec = emb_dec.num_embeddings\n",
    "                 \n",
    "        self.emb_enc = emb_enc\n",
    "        self.emb_enc_drop = nn.Dropout(0.15)\n",
    "        self.gru_enc = nn.GRU(\n",
    "            self.em_sz_enc, nh, num_layers=nl, dropout=0.25, batch_first=True)\n",
    "        self.out_enc = nn.Linear(nh, self.em_sz_dec, bias=False)\n",
    "        \n",
    "        self.emb_dec = emb_dec\n",
    "        self.gru_dec = nn.GRU(\n",
    "            self.em_sz_dec, self.em_sz_dec, num_layers=nl, dropout=0.1, batch_first=True)\n",
    "        \n",
    "        self.out_drop = nn.Dropout(0.35)\n",
    "        self.out = nn.Linear(self.em_sz_dec, self.voc_sz_dec)\n",
    "        self.out.weight.data = self.emb_dec.weight.data\n",
    "        \n",
    "        self.tf_weight = tf_weight  # teacher forcing weight\n",
    "        \n",
    "    def encoder(self, bs, inp):\n",
    "        h = self.initHidden(bs)\n",
    "        emb = self.emb_enc_drop(self.emb_enc(inp))\n",
    "        _, h = self.gru_enc(emb, h)\n",
    "        h = self.out_enc(h)\n",
    "        return h\n",
    "    \n",
    "    def decoder(self, dec_inp, h):\n",
    "        emb = self.emb_dec(dec_inp).unsqueeze(1)\n",
    "        outp, h = self.gru_dec(emb, h)\n",
    "        outp = self.out(self.out_drop(outp[:,0]))\n",
    "        return outp, h\n",
    "        \n",
    "    def forward(self, inp, targ=None):\n",
    "        bs, sl = inp.size()\n",
    "        h = self.encoder(bs, inp)\n",
    "        dec_inp = inp.new_zeros(bs).long() + self.bos_idx\n",
    "        \n",
    "        res = []\n",
    "        for i in range(self.out_sl):\n",
    "            outp, h = self.decoder(dec_inp, h)\n",
    "            dec_inp = outp.max(1)[1]\n",
    "            res.append(outp)\n",
    "            if (dec_inp==self.pad_idx).all(): \n",
    "                break\n",
    "                \n",
    "            # Teacher forcing\n",
    "            if (targ is not None) and (random.random() < self.tf_weight):\n",
    "                if i>=targ.shape[1]: continue\n",
    "                dec_inp = targ[:,i]\n",
    "        return torch.stack(res, dim=1)\n",
    "    \n",
    "    def initHidden(self, bs): \n",
    "        return one_param(self).new_zeros(self.nl, bs, self.nh)"
   ]
  },
  {
   "cell_type": "code",
   "execution_count": 7,
   "metadata": {
    "hidden": true
   },
   "outputs": [
    {
     "data": {
      "text/plain": [
       "torch.Size([128, 20])"
      ]
     },
     "execution_count": 7,
     "metadata": {},
     "output_type": "execute_result"
    }
   ],
   "source": [
    "xb, yb = next(iter(data.valid_dl))\n",
    "xb.shape"
   ]
  },
  {
   "cell_type": "code",
   "execution_count": 7,
   "metadata": {
    "hidden": true
   },
   "outputs": [
    {
     "data": {
      "text/plain": [
       "EncDecRNN(\n",
       "  (emb_enc): Embedding(5808, 300, padding_idx=1)\n",
       "  (emb_enc_drop): Dropout(p=0.15, inplace=False)\n",
       "  (gru_enc): GRU(300, 256, num_layers=2, batch_first=True, dropout=0.25)\n",
       "  (out_enc): Linear(in_features=256, out_features=300, bias=False)\n",
       "  (emb_dec): Embedding(7104, 300, padding_idx=1)\n",
       "  (gru_dec): GRU(300, 300, num_layers=2, batch_first=True, dropout=0.1)\n",
       "  (out_drop): Dropout(p=0.35, inplace=False)\n",
       "  (out): Linear(in_features=300, out_features=7104, bias=True)\n",
       ")"
      ]
     },
     "execution_count": 7,
     "metadata": {},
     "output_type": "execute_result"
    }
   ],
   "source": [
    "model = EncDecRNN(emb_enc, emb_dec, 256, 20, tf_weight=1)\n",
    "model"
   ]
  },
  {
   "cell_type": "markdown",
   "metadata": {
    "hidden": true
   },
   "source": [
    "> **Note:** we are using teacher forcing with prob of 1 so that we can compare this result to the ones with transformer (which also use teacher forcing with prob of 1)"
   ]
  },
  {
   "cell_type": "markdown",
   "metadata": {
    "heading_collapsed": true
   },
   "source": [
    "### 1.6 Metrics and loss functions"
   ]
  },
  {
   "cell_type": "markdown",
   "metadata": {
    "heading_collapsed": true,
    "hidden": true
   },
   "source": [
    "#### 1.6.1 Cross-Entropy loss"
   ]
  },
  {
   "cell_type": "code",
   "execution_count": 8,
   "metadata": {
    "hidden": true
   },
   "outputs": [],
   "source": [
    "def cross_entropy(out, targ, pad_idx=1):\n",
    "    bs, targ_len = targ.size()\n",
    "    _, out_len, vs = out.size()\n",
    "    if targ_len > out_len: \n",
    "        out  = F.pad(out, (0, 0, 0, targ_len - out_len, 0, 0), value=pad_idx)\n",
    "    if out_len > targ_len: \n",
    "        targ = F.pad(targ, (0, out_len - targ_len, 0, 0), value=pad_idx)\n",
    "    return CrossEntropyFlat()(out, targ)"
   ]
  },
  {
   "cell_type": "markdown",
   "metadata": {
    "heading_collapsed": true,
    "hidden": true
   },
   "source": [
    "#### 1.6.2 Token-level accuracy "
   ]
  },
  {
   "cell_type": "code",
   "execution_count": 9,
   "metadata": {
    "hidden": true
   },
   "outputs": [],
   "source": [
    "def seq2seq_acc(out, targ, pad_idx=1):\n",
    "    bs, targ_len = targ.size()\n",
    "    _, out_len, vs = out.size()\n",
    "    if targ_len > out_len: \n",
    "        out  = F.pad(out,  (0,0,0,targ_len-out_len,0,0), value=pad_idx)\n",
    "    if out_len > targ_len: \n",
    "        targ = F.pad(targ, (0,out_len-targ_len,0,0), value=pad_idx)\n",
    "    out = out.argmax(2)\n",
    "    return (out==targ).float().mean()"
   ]
  },
  {
   "cell_type": "markdown",
   "metadata": {
    "heading_collapsed": true,
    "hidden": true
   },
   "source": [
    "#### 1.6.3 BLEU\n",
    "\n",
    "BLEU is a very used meassurement on NMT and in seq2seq in general, is important to know how it works and its limitations, I strongly recommend reading Rachael Tatman's [post](https://towardsdatascience.com/evaluating-text-output-in-nlp-bleu-at-your-own-risk-e8609665a213) about it"
   ]
  },
  {
   "cell_type": "code",
   "execution_count": 5,
   "metadata": {
    "code_folding": [
     0,
     12,
     15,
     20
    ],
    "hidden": true
   },
   "outputs": [],
   "source": [
    "class NGram():\n",
    "    def __init__(self, ngram, max_n=5000): \n",
    "        self.ngram,self.max_n = ngram,max_n\n",
    "        \n",
    "    def __eq__(self, other):\n",
    "        if len(self.ngram) != len(other.ngram): \n",
    "            return False\n",
    "        return np.all(np.array(self.ngram) == np.array(other.ngram))\n",
    "    \n",
    "    def __hash__(self): \n",
    "        return int(sum([o * self.max_n**i for i,o in enumerate(self.ngram)]))\n",
    "\n",
    "def get_grams(x, n, max_n=5000):\n",
    "    return x if n==1 else [NGram(x[i:i+n], max_n=max_n) for i in range(len(x)-n+1)]\n",
    "\n",
    "def get_correct_ngrams(pred, targ, n, max_n=5000):\n",
    "    pred_grams, targ_grams = get_grams(pred, n, max_n=max_n), get_grams(targ, n, max_n=max_n)\n",
    "    pred_cnt, targ_cnt = Counter(pred_grams), Counter(targ_grams)\n",
    "    return sum([min(c, targ_cnt[g]) for g, c in pred_cnt.items()]), len(pred_grams)\n",
    "\n",
    "class CorpusBLEU(Callback):\n",
    "    def __init__(self, vocab_sz):\n",
    "        self.vocab_sz = vocab_sz\n",
    "        self.name = 'bleu'\n",
    "    \n",
    "    def on_epoch_begin(self, **kwargs):\n",
    "        self.pred_len, self.targ_len, self.corrects, self.counts = 0,0,[0]*4,[0]*4\n",
    "    \n",
    "    def on_batch_end(self, last_output, last_target, **kwargs):\n",
    "        last_output = last_output.argmax(dim=-1)\n",
    "        for pred, targ in zip(last_output.cpu().numpy(), last_target.cpu().numpy()):\n",
    "            self.pred_len += len(pred)\n",
    "            self.targ_len += len(targ)\n",
    "            for i in range(4):\n",
    "                c, t = get_correct_ngrams(pred, targ, i + 1, max_n=self.vocab_sz)\n",
    "                self.corrects[i] += c\n",
    "                self.counts[i]   += t\n",
    "    \n",
    "    def on_epoch_end(self, last_metrics, **kwargs):\n",
    "        precs = [c/t for c,t in zip(self.corrects,self.counts)]\n",
    "        len_penalty = exp(1 - self.targ_len/self.pred_len) if self.pred_len < self.targ_len else 1\n",
    "        bleu = len_penalty * ((precs[0]*precs[1]*precs[2]*precs[3]) ** 0.25)\n",
    "        return add_metrics(last_metrics, bleu)"
   ]
  },
  {
   "cell_type": "markdown",
   "metadata": {
    "heading_collapsed": true
   },
   "source": [
    "### 1.5 Training"
   ]
  },
  {
   "cell_type": "code",
   "execution_count": 11,
   "metadata": {
    "hidden": true
   },
   "outputs": [],
   "source": [
    "from fastai.callbacks import SaveModelCallback\n",
    "\n",
    "learn = Learner(\n",
    "    data, model, loss_func=cross_entropy, \n",
    "    metrics=[seq2seq_acc, CorpusBLEU(len(data.y.vocab.itos))])\n",
    "\n",
    "learn.callbacks.append(\n",
    "    SaveModelCallback(learn, every='improvement', monitor='valid_loss', name='baseline'))"
   ]
  },
  {
   "cell_type": "code",
   "execution_count": 13,
   "metadata": {
    "hidden": true
   },
   "outputs": [
    {
     "data": {
      "text/html": [],
      "text/plain": [
       "<IPython.core.display.HTML object>"
      ]
     },
     "metadata": {},
     "output_type": "display_data"
    },
    {
     "name": "stdout",
     "output_type": "stream",
     "text": [
      "LR Finder is complete, type {learner_name}.recorder.plot() to see the graph.\n"
     ]
    }
   ],
   "source": [
    "learn.lr_find()"
   ]
  },
  {
   "cell_type": "code",
   "execution_count": 14,
   "metadata": {
    "hidden": true
   },
   "outputs": [
    {
     "name": "stdout",
     "output_type": "stream",
     "text": [
      "Min numerical gradient: 6.31E-03\n",
      "Min loss divided by 10: 2.29E-03\n"
     ]
    },
    {
     "data": {
      "image/png": "[encoded data removed]",
      "text/plain": [
       "<Figure size 432x288 with 1 Axes>"
      ]
     },
     "metadata": {
      "needs_background": "light"
     },
     "output_type": "display_data"
    }
   ],
   "source": [
    "learn.recorder.plot(suggestion=True)"
   ]
  },
  {
   "cell_type": "code",
   "execution_count": 15,
   "metadata": {
    "hidden": true
   },
   "outputs": [
    {
     "data": {
      "text/html": [
       "<table border=\"1\" class=\"dataframe\">\n",
       "  <thead>\n",
       "    <tr style=\"text-align: left;\">\n",
       "      <th>epoch</th>\n",
       "      <th>train_loss</th>\n",
       "      <th>valid_loss</th>\n",
       "      <th>seq2seq_acc</th>\n",
       "      <th>bleu</th>\n",
       "      <th>time</th>\n",
       "    </tr>\n",
       "  </thead>\n",
       "  <tbody>\n",
       "    <tr>\n",
       "      <td>0</td>\n",
       "      <td>4.580141</td>\n",
       "      <td>2.943090</td>\n",
       "      <td>0.569072</td>\n",
       "      <td>0.273858</td>\n",
       "      <td>00:19</td>\n",
       "    </tr>\n",
       "    <tr>\n",
       "      <td>1</td>\n",
       "      <td>3.840177</td>\n",
       "      <td>2.816740</td>\n",
       "      <td>0.549650</td>\n",
       "      <td>0.251734</td>\n",
       "      <td>00:19</td>\n",
       "    </tr>\n",
       "    <tr>\n",
       "      <td>2</td>\n",
       "      <td>3.464854</td>\n",
       "      <td>2.669522</td>\n",
       "      <td>0.576558</td>\n",
       "      <td>0.296858</td>\n",
       "      <td>00:18</td>\n",
       "    </tr>\n",
       "    <tr>\n",
       "      <td>3</td>\n",
       "      <td>3.365971</td>\n",
       "      <td>3.272397</td>\n",
       "      <td>0.511141</td>\n",
       "      <td>0.332937</td>\n",
       "      <td>00:17</td>\n",
       "    </tr>\n",
       "  </tbody>\n",
       "</table>"
      ],
      "text/plain": [
       "<IPython.core.display.HTML object>"
      ]
     },
     "metadata": {},
     "output_type": "display_data"
    },
    {
     "name": "stdout",
     "output_type": "stream",
     "text": [
      "Better model found at epoch 0 with valid_loss value: 2.9430902004241943.\n",
      "Better model found at epoch 1 with valid_loss value: 2.8167402744293213.\n",
      "Better model found at epoch 2 with valid_loss value: 2.6695215702056885.\n"
     ]
    }
   ],
   "source": [
    "learn.fit_one_cycle(4, 3e-2)"
   ]
  },
  {
   "cell_type": "markdown",
   "metadata": {
    "heading_collapsed": true
   },
   "source": [
    "### 1.6 Cualitative evaluation"
   ]
  },
  {
   "cell_type": "code",
   "execution_count": 13,
   "metadata": {
    "hidden": true
   },
   "outputs": [],
   "source": [
    "learn.load('baseline');"
   ]
  },
  {
   "cell_type": "code",
   "execution_count": 14,
   "metadata": {
    "hidden": true
   },
   "outputs": [],
   "source": [
    "model.eval()\n",
    "model.cpu();"
   ]
  },
  {
   "cell_type": "code",
   "execution_count": 15,
   "metadata": {
    "hidden": true
   },
   "outputs": [],
   "source": [
    "def greedy_decode(inp):\n",
    "    out =  model(inp)\n",
    "    return out.argmax(-1)"
   ]
  },
  {
   "cell_type": "markdown",
   "metadata": {
    "hidden": true
   },
   "source": [
    "#### 1.6.1 Beam search\n",
    "\n",
    "Not a good implementation of beam search."
   ]
  },
  {
   "cell_type": "code",
   "execution_count": 6,
   "metadata": {
    "hidden": true
   },
   "outputs": [],
   "source": [
    "def select_nucleus(probs, p=0.1, max_length=5):\n",
    "    idxs = torch.argsort(probs, descending=True)\n",
    "    res, cumsum = [], 0.\n",
    "    for idx in idxs:\n",
    "        res.append(idx)\n",
    "        cumsum += probs[idx]\n",
    "        if cumsum > p or len(res) >= max_length: \n",
    "            return res"
   ]
  },
  {
   "cell_type": "code",
   "execution_count": 17,
   "metadata": {
    "hidden": true
   },
   "outputs": [],
   "source": [
    "def beam_decode(inp, bos_idx=2, unk_idx=0, pad_idx=1, beam_size=5, nucleus=0.3, no_unk=False):\n",
    "    h = model.encoder(1, inp)\n",
    "    \n",
    "    finised = []  # finished phrases\n",
    "    next_word = None\n",
    "    current_ys = [(inp.new_zeros(1).long() + bos_idx, 0)]\n",
    "    while current_ys:\n",
    "        next_ys = []\n",
    "        for ys, path_score in current_ys:\n",
    "            out, h = model.decoder(ys[None, -1], h)\n",
    "            probs = F.softmax(out[0], dim=-1)\n",
    "            \n",
    "            if no_unk:\n",
    "                probs[unk_idx] = -float('Inf')\n",
    "            \n",
    "            likely = select_nucleus(probs, p=nucleus)\n",
    "            chosen_words = random.sample(likely, k=min(beam_size, len(likely)))\n",
    "            \n",
    "            for y in chosen_words:\n",
    "                phrase = torch.cat([ys, \n",
    "                        torch.Tensor([y]).long()], dim=0)\n",
    "                \n",
    "                score = path_score + torch.log(probs[y])\n",
    "                \n",
    "                if y == pad_idx or len(phrase) > 20:\n",
    "                    finised.append((phrase, score))\n",
    "                else:\n",
    "                    next_ys.append((phrase, score))\n",
    "                \n",
    "        current_ys = sorted(next_ys, key=lambda k: k[1], reverse=True)[:beam_size]\n",
    "    return sorted(finised, key=lambda k: k[1]/len(k[0]), reverse=True)[0][0]"
   ]
  },
  {
   "cell_type": "code",
   "execution_count": 7,
   "metadata": {
    "hidden": true
   },
   "outputs": [],
   "source": [
    "def pretty(text_):\n",
    "    if isinstance(text_, text.data.Text):\n",
    "        text_ = text_.text\n",
    "    maj = False\n",
    "    up = False\n",
    "    tokens = []\n",
    "    for t in text_.split(' '):\n",
    "        if t in ['xxbos']:\n",
    "            continue\n",
    "        elif t == 'xxmaj':\n",
    "            maj = True\n",
    "            continue\n",
    "        elif t == 'xxup':\n",
    "            up = True\n",
    "            continue\n",
    "        if maj:\n",
    "            t = t[0].upper() + t[1:]\n",
    "            maj = False\n",
    "        if up:\n",
    "            t = t.upper()\n",
    "            up = False\n",
    "        tokens.append(t)\n",
    "    return ' '.join(tokens)"
   ]
  },
  {
   "cell_type": "code",
   "execution_count": 8,
   "metadata": {
    "hidden": true
   },
   "outputs": [],
   "source": [
    "test_phrases = ['Let it go', 'I am your father', 'You talking to me?', 'A census taker once tried to test me. I ate his liver with some fava beans and a nice Chianti.', 'I\\'ll be back.', 'I see dead people.', 'Houston, we have a problem.', 'Say hello to my little friend!', 'I did not hit her! I did not! Oh hi, Mark.', 'I\\'m king of the world!', 'This is Sparta!', 'I want to play a game.', 'I have had it with these motherfucking snakes on this motherfucking plane!', 'You\\'re a wizard, Harry.', 'With great power comes great responsibility.', 'I don\\'t like sand. It\\'s all coarse, and rough, and irritating. And it gets everywhere.', 'Not the bees!', 'Why so serious?', 'I\\'m gonna steal the Declaration of Independence.', 'You shall not pass!', 'Are you not entertained?', 'King Kong ain\\'t got shit on me!', 'I live my life a quarter mile at a time.', 'Water? Like out of the toilet?', 'They may take our lives, but they\\'ll never take our freedom!', 'I will look for you, I will find you, and I will kill you.', 'My precious.', 'The first rule of Fight Club is: You do not talk about Fight Club.', 'You\\'re gonna need a bigger boat.']"
   ]
  },
  {
   "cell_type": "code",
   "execution_count": 21,
   "metadata": {
    "hidden": true,
    "scrolled": true
   },
   "outputs": [
    {
     "name": "stdout",
     "output_type": "stream",
     "text": [
      "Let it go\n",
      "~~~~~~~~~~ greedy ~~~~~~~~~~\n",
      "Xxunk xxunk\n",
      "~~~~~~~~~~  beam  ~~~~~~~~~~\n",
      "De\n",
      "==================================================\n",
      "\n",
      "i am your father\n",
      "~~~~~~~~~~ greedy ~~~~~~~~~~\n",
      "¿ No que que que que que\n",
      "~~~~~~~~~~  beam  ~~~~~~~~~~\n",
      "¿ Que que\n",
      "==================================================\n",
      "\n",
      "You talking to me ?\n",
      "~~~~~~~~~~ greedy ~~~~~~~~~~\n",
      "Xxunk\n",
      "~~~~~~~~~~  beam  ~~~~~~~~~~\n",
      "Cómo\n",
      "==================================================\n",
      "\n",
      "a xxunk xxunk once tried to test me . i ate his xxunk with some xxunk xxunk and a nice Xxunk .\n",
      "~~~~~~~~~~ greedy ~~~~~~~~~~\n",
      "No xxunk xxunk xxunk xxunk xxunk xxunk xxunk xxunk xxunk xxunk xxunk xxunk xxunk xxunk xxunk xxunk xxunk\n",
      "~~~~~~~~~~  beam  ~~~~~~~~~~\n",
      "No que que y\n",
      "==================================================\n",
      "\n",
      "i 'll be back .\n",
      "~~~~~~~~~~ greedy ~~~~~~~~~~\n",
      "No que que que . . .\n",
      "~~~~~~~~~~  beam  ~~~~~~~~~~\n",
      "No que .\n",
      "==================================================\n",
      "\n",
      "i see dead people .\n",
      "~~~~~~~~~~ greedy ~~~~~~~~~~\n",
      "No que que que que que xxunk\n",
      "~~~~~~~~~~  beam  ~~~~~~~~~~\n",
      "No a .\n",
      "==================================================\n",
      "\n",
      "Xxunk , we have a problem .\n",
      "~~~~~~~~~~ greedy ~~~~~~~~~~\n",
      "Xxunk xxunk xxunk xxunk xxunk xxunk xxunk xxunk xxunk xxunk xxunk xxunk xxunk xxunk xxunk xxunk xxunk\n",
      "~~~~~~~~~~  beam  ~~~~~~~~~~\n",
      ",\n",
      "==================================================\n",
      "\n",
      "Say hello to my little friend !\n",
      "~~~~~~~~~~ greedy ~~~~~~~~~~\n",
      "No xxunk xxunk xxunk xxunk xxunk xxunk ! ! ! ! ! ! ! !\n",
      "~~~~~~~~~~  beam  ~~~~~~~~~~\n",
      "No no ! !\n",
      "==================================================\n",
      "\n",
      "i did not hit her ! i did not ! Oh hi , Mark .\n",
      "~~~~~~~~~~ greedy ~~~~~~~~~~\n",
      "No , , , , , , , , , , , , , , , , ,\n",
      "~~~~~~~~~~  beam  ~~~~~~~~~~\n",
      "No , , , !\n",
      "==================================================\n",
      "\n",
      "i xxunk king of the world !\n",
      "~~~~~~~~~~ greedy ~~~~~~~~~~\n",
      "No xxunk xxunk xxunk xxunk xxunk ! !\n",
      "~~~~~~~~~~  beam  ~~~~~~~~~~\n",
      "No he !\n",
      "==================================================\n",
      "\n",
      "This is Xxunk !\n",
      "~~~~~~~~~~ greedy ~~~~~~~~~~\n",
      "\n",
      "~~~~~~~~~~  beam  ~~~~~~~~~~\n",
      "\n",
      "==================================================\n",
      "\n",
      "i want to play a game .\n",
      "~~~~~~~~~~ greedy ~~~~~~~~~~\n",
      "No que que que que que que xxunk\n",
      "~~~~~~~~~~  beam  ~~~~~~~~~~\n",
      "No no que\n",
      "==================================================\n",
      "\n",
      "i have had it with these xxunk xxunk on this xxunk plane !\n",
      "~~~~~~~~~~ greedy ~~~~~~~~~~\n",
      "¡ no xxunk xxunk xxunk xxunk ! !\n",
      "~~~~~~~~~~  beam  ~~~~~~~~~~\n",
      "No no !\n",
      "==================================================\n",
      "\n",
      "You 're a xxunk , Harry .\n",
      "~~~~~~~~~~ greedy ~~~~~~~~~~\n",
      "Xxunk xxunk xxunk xxunk xxunk xxunk xxunk xxunk xxunk xxunk xxunk xxunk xxunk xxunk xxunk xxunk xxunk\n",
      "~~~~~~~~~~  beam  ~~~~~~~~~~\n",
      ", ,\n",
      "==================================================\n",
      "\n",
      "With great power comes great responsibility .\n",
      "~~~~~~~~~~ greedy ~~~~~~~~~~\n",
      "Xxunk xxunk xxunk xxunk xxunk xxunk xxunk xxunk xxunk xxunk xxunk xxunk xxunk xxunk xxunk xxunk xxunk xxunk\n",
      "~~~~~~~~~~  beam  ~~~~~~~~~~\n",
      "Que el\n",
      "==================================================\n",
      "\n",
      "i do xxunk like sand . It 's all xxunk , and rough , and xxunk . And it gets everywhere .\n",
      "~~~~~~~~~~ greedy ~~~~~~~~~~\n",
      "No xxunk y y y y y y y xxunk xxunk y y xxunk xxunk\n",
      "~~~~~~~~~~  beam  ~~~~~~~~~~\n",
      "No y y .\n",
      "==================================================\n",
      "\n",
      "Not the xxunk !\n",
      "~~~~~~~~~~ greedy ~~~~~~~~~~\n",
      "\n",
      "~~~~~~~~~~  beam  ~~~~~~~~~~\n",
      "!\n",
      "==================================================\n",
      "\n",
      "Why so serious ?\n",
      "~~~~~~~~~~ greedy ~~~~~~~~~~\n",
      "Qué qué qué qué qué qué qué qué qué qué qué qué qué qué qué qué qué\n",
      "~~~~~~~~~~  beam  ~~~~~~~~~~\n",
      "Qué qué qué\n",
      "==================================================\n",
      "\n",
      "i xxunk gon na steal the Xxunk of Xxunk .\n",
      "~~~~~~~~~~ greedy ~~~~~~~~~~\n",
      "No xxunk xxunk xxunk xxunk xxunk xxunk xxunk xxunk xxunk xxunk xxunk xxunk xxunk xxunk xxunk xxunk xxunk\n",
      "~~~~~~~~~~  beam  ~~~~~~~~~~\n",
      "No que que\n",
      "==================================================\n",
      "\n",
      "You shall not pass !\n",
      "~~~~~~~~~~ greedy ~~~~~~~~~~\n",
      "No Xxunk xxunk xxunk xxunk ! ! !\n",
      "~~~~~~~~~~  beam  ~~~~~~~~~~\n",
      "No\n",
      "==================================================\n",
      "\n",
      "Are you not xxunk ?\n",
      "~~~~~~~~~~ greedy ~~~~~~~~~~\n",
      "\n",
      "~~~~~~~~~~  beam  ~~~~~~~~~~\n",
      "\n",
      "==================================================\n",
      "\n",
      "King Kong xxunk xxunk got shit on me !\n",
      "~~~~~~~~~~ greedy ~~~~~~~~~~\n",
      "\n",
      "~~~~~~~~~~  beam  ~~~~~~~~~~\n",
      "No !\n",
      "==================================================\n",
      "\n",
      "i live my life a quarter mile at a time .\n",
      "~~~~~~~~~~ greedy ~~~~~~~~~~\n",
      "No que que que que que que que que que que xxunk de\n",
      "~~~~~~~~~~  beam  ~~~~~~~~~~\n",
      "No que a\n",
      "==================================================\n",
      "\n",
      "Water ? Like out of the toilet ?\n",
      "~~~~~~~~~~ greedy ~~~~~~~~~~\n",
      "\n",
      "~~~~~~~~~~  beam  ~~~~~~~~~~\n",
      "De\n",
      "==================================================\n",
      "\n",
      "They may take our lives , but they 'll never take our freedom !\n",
      "~~~~~~~~~~ greedy ~~~~~~~~~~\n",
      "No\n",
      "~~~~~~~~~~  beam  ~~~~~~~~~~\n",
      ", No\n",
      "==================================================\n",
      "\n",
      "i will look for you , i will find you , and i will kill you .\n",
      "~~~~~~~~~~ greedy ~~~~~~~~~~\n",
      "No , , , , , , , , , , , , , , , , ,\n",
      "~~~~~~~~~~  beam  ~~~~~~~~~~\n",
      "No , , . .\n",
      "==================================================\n",
      "\n",
      "My precious .\n",
      "~~~~~~~~~~ greedy ~~~~~~~~~~\n",
      "Xxunk xxunk xxunk xxunk xxunk\n",
      "~~~~~~~~~~  beam  ~~~~~~~~~~\n",
      "Que\n",
      "==================================================\n",
      "\n",
      "The first rule of Fight Club is : You do not talk about Fight Club .\n",
      "~~~~~~~~~~ greedy ~~~~~~~~~~\n",
      "No que que que que Que xxunk xxunk xxunk xxunk xxunk xxunk xxunk xxunk xxunk xxunk xxunk\n",
      "~~~~~~~~~~  beam  ~~~~~~~~~~\n",
      "No que es\n",
      "==================================================\n",
      "\n",
      "You 're gon na need a bigger boat .\n",
      "~~~~~~~~~~ greedy ~~~~~~~~~~\n",
      "Xxunk xxunk xxunk xxunk xxunk xxunk xxunk xxunk xxunk xxunk xxunk xxunk xxunk xxunk xxunk xxunk xxunk\n",
      "~~~~~~~~~~  beam  ~~~~~~~~~~\n",
      "Que que\n",
      "==================================================\n",
      "\n"
     ]
    }
   ],
   "source": [
    "tokenizer = Tokenizer()\n",
    "tok = SpacyTokenizer('en')\n",
    "\n",
    "def show_predictions():\n",
    "    for x in test_phrases:\n",
    "        x = torch.tensor([[data.x.vocab.stoi[t] for t in tokenizer.process_text(x, tok)]])\n",
    "        print(pretty(data.x.reconstruct(x[0])))\n",
    "        print('~' * 10 + ' greedy ' + '~' * 10)    \n",
    "        print(pretty(data.y.reconstruct(greedy_decode(x)[0])))\n",
    "        print('~' * 10 + '  beam  ' + '~' * 10)    \n",
    "        print(pretty(data.y.reconstruct(beam_decode(x, no_unk=True))))\n",
    "        print('=' * 50 + '\\n')\n",
    "show_predictions()"
   ]
  },
  {
   "cell_type": "markdown",
   "metadata": {
    "heading_collapsed": true
   },
   "source": [
    "### Extras\n",
    "\n",
    "This baseline was meant to provide a basic understanding of the problem but there are things that can be improved and potentially re-used for the more complex models. If you decide so, here are some things you can add to the baseline to get your feet wet, if you have other things to add to this list don't hessitate to propose it. \n",
    "\n",
    "- Align batches in a way that allows us to keep h between batches, similar to what is done in [notebook 6](https://github.com/fastai/course-nlp/blob/master/6-rnn-english-numbers.ipynb) of fast.ai's course.\n",
    "- Handle UNK better using a sub-word tokenizer like [BPT](https://github.com/rsennrich/subword-nmt) or [SentencePiece](https://github.com/google/sentencepiece). This would render fastext pre-trained embeddings obsolete so an alternative is necessary.\n",
    "- Train with more data and for longer.\n",
    "- [RAdam](https://medium.com/@lessw/new-state-of-the-art-ai-optimizer-rectified-adam-radam-5d854730807b) a new optimizer that can easily be integrated and promises better results.\n",
    "- Beam search, we are using a variant here, but didn't test it in depth. Take a look to [this paper](https://arxiv.org/abs/1904.09751) for an analysis on open-ended and non-open-ended text generation.\n",
    "- Try [QRNN](https://arxiv.org/abs/1611.01576) instead of GRU."
   ]
  },
  {
   "cell_type": "markdown",
   "metadata": {},
   "source": [
    "## 2. Advanced solutions\n",
    "\n",
    "Now that we have a basic understanding of the problem we will dive into more novel solutions. The idea here is that you choose an approach that you want to try and implement it. It's beeter if you try a different solution than mine so that we can compare results later.\n",
    "\n",
    "Some ideas are:\n",
    "\n",
    "- ELMO embeddings. Pre-trained weights just in english.\n",
    "- BERT embeddings. English and multilingual pre-trained models could come handy.\n",
    "- TransformXL.\n",
    "- XLM embeddings. They have a [multilingual model](https://github.com/facebookresearch/XLM#pretrained-cross-lingual-language-models) pre-trained.\n",
    "- Distill some of the complex embeddings as described on [this paper](https://arxiv.org/pdf/1503.02531.pdf).\n",
    "- [LightConv and DynamicConv](https://arxiv.org/abs/1901.10430), an alternative to attention, [pytorch implementation](https://github.com/pytorch/fairseq) is available.\n",
    "\n",
    "Training one of these more advanced models from scratch is quite lengthy and it might not be possible on the available hardware we have. As a reference, I trained ULMFit from scratch on the whole wikipedia in spanish on a 2080 Ti with 11GB and took ~25hrs ([notebook](./nn-spanish.ipynb)).\n",
    "\n",
    "For this reason I highly recommend using pre-trained models and transfer learning where possible (for english there are pre-trained weights available for all models but for spanish there might not be available).\n",
    "\n",
    "Keep an eye on the latest news, NLP is in the middle of a revolution so new things come up each week."
   ]
  },
  {
   "cell_type": "markdown",
   "metadata": {
    "heading_collapsed": true
   },
   "source": [
    "### 2.1 Transformer\n",
    "\n",
    "Vanilla transformer. Implementation taken from fast.ai's [8th notebook](https://github.com/fastai/course-nlp/blob/master/8-translation-transformer.ipynb). I just changed it a bit to use some of the classes/functions that come in the library and used FastText pre-trained embeddings instead of random ones.\n",
    "\n",
    "Also highly recommend checking the [Annotated paper](http://nlp.seas.harvard.edu/2018/04/03/attention.html) with PyTorch code.\n",
    "\n",
    "<img src=\"images/transformer.png\"> </img>"
   ]
  },
  {
   "cell_type": "code",
   "execution_count": 9,
   "metadata": {
    "hidden": true
   },
   "outputs": [],
   "source": [
    "import copy\n",
    "\n",
    "def clones(module, N):\n",
    "    \"Produce N identical layers.\"\n",
    "    return nn.ModuleList([copy.deepcopy(module) for _ in range(N)])"
   ]
  },
  {
   "cell_type": "code",
   "execution_count": 10,
   "metadata": {
    "hidden": true
   },
   "outputs": [],
   "source": [
    "class SublayerConnection(nn.Module):\n",
    "    \"\"\"\n",
    "    A residual connection followed by a layer norm.\n",
    "    Note for code simplicity the norm is first as opposed to last.\n",
    "    \"\"\"\n",
    "    def __init__(self, size, dropout):\n",
    "        super(SublayerConnection, self).__init__()\n",
    "        self.norm = LayerNorm(size)\n",
    "        self.dropout = nn.Dropout(dropout)\n",
    "\n",
    "    def forward(self, x, sublayer):\n",
    "        \"Apply residual connection to any sublayer with the same size.\"\n",
    "        return x + self.dropout(sublayer(self.norm(x)))\n",
    "    \n",
    "class LayerNorm(nn.Module):\n",
    "    \"Construct a layernorm module (See citation for details).\"\n",
    "    def __init__(self, features, eps=1e-6):\n",
    "        super(LayerNorm, self).__init__()\n",
    "        self.a_2 = nn.Parameter(torch.ones(features))\n",
    "        self.b_2 = nn.Parameter(torch.zeros(features))\n",
    "        self.eps = eps\n",
    "\n",
    "    def forward(self, x):\n",
    "        mean = x.mean(-1, keepdim=True)\n",
    "        std = x.std(-1, keepdim=True)\n",
    "        return self.a_2 * (x - mean) / (std + self.eps) + self.b_2"
   ]
  },
  {
   "cell_type": "code",
   "execution_count": 11,
   "metadata": {
    "hidden": true
   },
   "outputs": [],
   "source": [
    "class TransformerEmbedding(nn.Module):\n",
    "    \"Embedding + positional encoding + dropout\"\n",
    "    def __init__(self, emb, inp_p=0.):\n",
    "        super().__init__()\n",
    "        self.emb_sz = emb.embedding_dim\n",
    "        self.embed = emb\n",
    "        self.pos_enc = PositionalEncoding(self.emb_sz)  # https://github.com/fastai/fastai/blob/master/fastai/text/models/transformer.py#L11\n",
    "        self.drop = nn.Dropout(inp_p)\n",
    "    \n",
    "    def forward(self, inp): \n",
    "        pos = torch.arange(0, inp.size(1), device=inp.device).float()\n",
    "        return self.drop(self.embed(inp) * math.sqrt(self.emb_sz) + self.pos_enc(pos))"
   ]
  },
  {
   "cell_type": "code",
   "execution_count": 12,
   "metadata": {
    "hidden": true
   },
   "outputs": [],
   "source": [
    "class MultiHeadAttention(nn.Module):\n",
    "    def __init__(self, n_heads, d_model, d_head=None, p=0., bias=True, scale=True):\n",
    "        super().__init__()\n",
    "        d_head = ifnone(d_head, d_model//n_heads)\n",
    "        self.n_heads,self.d_head,self.scale = n_heads,d_head,scale\n",
    "        self.q_wgt,self.k_wgt,self.v_wgt = [nn.Linear(\n",
    "            d_model, n_heads * d_head, bias=bias) for o in range(3)]\n",
    "        self.out = nn.Linear(n_heads * d_head, d_model, bias=bias)\n",
    "        self.drop_att,self.drop_res = nn.Dropout(p),nn.Dropout(p)\n",
    "        self.ln = nn.LayerNorm(d_model)\n",
    "        \n",
    "    def forward(self, q, kv, mask=None):\n",
    "        return self.ln(q + self.drop_res(self.out(self._apply_attention(q, kv, mask=mask))))\n",
    "    \n",
    "    def create_attn_mat(self, x, layer, bs):\n",
    "        return layer(x).view(bs, x.size(1), self.n_heads, self.d_head\n",
    "                            ).permute(0, 2, 1, 3)\n",
    "    \n",
    "    def _apply_attention(self, q, kv, mask=None):\n",
    "        bs, seq_len = q.size(0),q.size(1)\n",
    "        wq, wk, wv = map(lambda o: self.create_attn_mat(*o,bs),\n",
    "                       zip((q, kv, kv),(self.q_wgt, self.k_wgt, self.v_wgt)))\n",
    "        attn_score = wq @ wk.transpose(2,3)\n",
    "        if self.scale: \n",
    "            attn_score /= math.sqrt(self.d_head)\n",
    "        if mask is not None: \n",
    "            attn_score = attn_score.float().masked_fill(mask, -float('inf')).type_as(attn_score)\n",
    "        attn_prob = self.drop_att(F.softmax(attn_score, dim=-1))\n",
    "        attn_vec = attn_prob @ wv\n",
    "        return attn_vec.permute(0, 2, 1, 3).contiguous().view(bs, seq_len, -1)"
   ]
  },
  {
   "cell_type": "code",
   "execution_count": 13,
   "metadata": {
    "hidden": true
   },
   "outputs": [],
   "source": [
    "class EncoderBlock(Module):\n",
    "    \"Basic block of a Transformer model.\"\n",
    "    # Can't use Sequential directly cause more than one input...\n",
    "    def __init__(self, n_heads, d_model, d_head, d_inner, p=0., bias=True, scale=True, double_drop=True):\n",
    "        \n",
    "        self.mhra = MultiHeadAttention(n_heads, d_model, d_head, p=p, bias=bias, scale=scale)\n",
    "        self.ff   = feed_forward(d_model, d_inner, ff_p=p, double_drop=double_drop)\n",
    "        self.sublayer = clones(SublayerConnection(d_model, p), 2)\n",
    "\n",
    "    def forward(self, x, **kwargs):\n",
    "        x = self.sublayer[0](x, lambda x: self.mhra(x, x, **kwargs))\n",
    "        return self.sublayer[1](x, self.ff)\n",
    "    \n",
    "        return self.ff()"
   ]
  },
  {
   "cell_type": "code",
   "execution_count": 14,
   "metadata": {
    "hidden": true
   },
   "outputs": [],
   "source": [
    "class DecoderBlock(nn.Module):\n",
    "    \"Decoder block of a Transformer model.\"\n",
    "    #Can't use Sequential directly cause more than one input...\n",
    "    def __init__(self, n_heads, d_model, d_head, d_inner, p=0., bias=True, scale=True, double_drop=True):\n",
    "        super().__init__()\n",
    "        self.mha1 = MultiHeadAttention(n_heads, d_model, d_head, p=p, bias=bias, scale=scale)\n",
    "        self.mha2 = MultiHeadAttention(n_heads, d_model, d_head, p=p, bias=bias, scale=scale)\n",
    "        self.ff   = feed_forward(d_model, d_inner, ff_p=p, double_drop=double_drop)\n",
    "        self.sublayer = clones(SublayerConnection(d_model, p), 3)\n",
    "    \n",
    "    def forward(self, x, enc, mask_out=None): \n",
    "        x = self.sublayer[0](x, lambda x: self.mha1(x, x, mask_out))\n",
    "        x = self.sublayer[1](x, lambda x: self.mha2(x, enc))\n",
    "        return self.sublayer[2](x, self.ff)"
   ]
  },
  {
   "cell_type": "code",
   "execution_count": 15,
   "metadata": {
    "hidden": true
   },
   "outputs": [],
   "source": [
    "def get_output_mask(inp, pad_idx=1):\n",
    "    return torch.triu(inp.new_ones(inp.size(1),inp.size(1)), diagonal=1)[None,None].bool()"
   ]
  },
  {
   "cell_type": "code",
   "execution_count": 16,
   "metadata": {
    "hidden": true
   },
   "outputs": [],
   "source": [
    "class Transformer(Module):\n",
    "    def __init__(\n",
    "            self, emb_enc, emb_dec, n_layers=6, n_heads=8, d_model=300, d_head=32, \n",
    "            d_inner=1024, p=0.1, bias=True, scale=True, double_drop=True, pad_idx=1):\n",
    "        \n",
    "        self.enc_emb = TransformerEmbedding(emb_enc, p)\n",
    "        self.dec_emb = TransformerEmbedding(emb_dec, 0.)\n",
    "        \n",
    "        args = (n_heads, d_model, d_head, d_inner, p, bias, scale, double_drop)\n",
    "        \n",
    "        self.encoder = nn.ModuleList([EncoderBlock(*args) for _ in range(n_layers)])\n",
    "        self.decoder = nn.ModuleList([DecoderBlock(*args) for _ in range(n_layers)])\n",
    "        \n",
    "        self.out = nn.Linear(d_model, emb_dec.num_embeddings)\n",
    "        self.out.weight = self.dec_emb.embed.weight\n",
    "        self.pad_idx = pad_idx\n",
    "        \n",
    "    def forward(self, inp, out):\n",
    "        mask_out = get_output_mask(out, self.pad_idx)\n",
    "        \n",
    "        enc, out = self.enc_emb(inp), self.dec_emb(out)\n",
    "        \n",
    "        enc = compose(self.encoder)(enc)\n",
    "        out = compose(self.decoder)(out, enc, mask_out)\n",
    "        return self.out(out)"
   ]
  },
  {
   "cell_type": "markdown",
   "metadata": {
    "hidden": true
   },
   "source": [
    "> **Note:** Transformer is allways using TeacherForcing "
   ]
  },
  {
   "cell_type": "code",
   "execution_count": 17,
   "metadata": {
    "hidden": true
   },
   "outputs": [],
   "source": [
    "def shift_tfm(b):\n",
    "    \"Adds the shifted y to the dataset\"\n",
    "    x,y = b\n",
    "    y = F.pad(y, (1, 0), value=1)\n",
    "    return [x, y[:,:-1]], y[:,1:]\n",
    "\n",
    "data.add_tfm(shift_tfm)"
   ]
  },
  {
   "cell_type": "code",
   "execution_count": 36,
   "metadata": {
    "hidden": true,
    "scrolled": true
   },
   "outputs": [],
   "source": [
    "model = Transformer(\n",
    "    emb_enc=emb_enc, \n",
    "    emb_dec=emb_dec)"
   ]
  },
  {
   "cell_type": "markdown",
   "metadata": {
    "heading_collapsed": true,
    "hidden": true
   },
   "source": [
    "#### 2.1.2 Training"
   ]
  },
  {
   "cell_type": "code",
   "execution_count": 37,
   "metadata": {
    "hidden": true
   },
   "outputs": [],
   "source": [
    "learn = Learner(\n",
    "    data, model, \n",
    "    loss_func=FlattenedLoss(\n",
    "        LabelSmoothingCrossEntropy, axis=-1),  # the paper reports better results with label smoothing\n",
    "    metrics=[accuracy, CorpusBLEU(len(data.y.vocab.itos))], \n",
    ")"
   ]
  },
  {
   "cell_type": "code",
   "execution_count": 38,
   "metadata": {
    "hidden": true
   },
   "outputs": [
    {
     "data": {
      "text/html": [],
      "text/plain": [
       "<IPython.core.display.HTML object>"
      ]
     },
     "metadata": {},
     "output_type": "display_data"
    },
    {
     "name": "stdout",
     "output_type": "stream",
     "text": [
      "LR Finder is complete, type {learner_name}.recorder.plot() to see the graph.\n"
     ]
    }
   ],
   "source": [
    "learn.lr_find()"
   ]
  },
  {
   "cell_type": "code",
   "execution_count": 39,
   "metadata": {
    "hidden": true,
    "scrolled": true
   },
   "outputs": [
    {
     "name": "stdout",
     "output_type": "stream",
     "text": [
      "Min numerical gradient: 5.25E-03\n",
      "Min loss divided by 10: 7.59E-02\n"
     ]
    },
    {
     "data": {
      "image/png": "[encoded data removed]",
      "text/plain": [
       "<Figure size 432x288 with 1 Axes>"
      ]
     },
     "metadata": {
      "needs_background": "light"
     },
     "output_type": "display_data"
    }
   ],
   "source": [
    "learn.recorder.plot(suggestion=True)"
   ]
  },
  {
   "cell_type": "code",
   "execution_count": 40,
   "metadata": {
    "hidden": true,
    "scrolled": false
   },
   "outputs": [
    {
     "data": {
      "text/html": [
       "<table border=\"1\" class=\"dataframe\">\n",
       "  <thead>\n",
       "    <tr style=\"text-align: left;\">\n",
       "      <th>epoch</th>\n",
       "      <th>train_loss</th>\n",
       "      <th>valid_loss</th>\n",
       "      <th>accuracy</th>\n",
       "      <th>bleu</th>\n",
       "      <th>time</th>\n",
       "    </tr>\n",
       "  </thead>\n",
       "  <tbody>\n",
       "    <tr>\n",
       "      <td>0</td>\n",
       "      <td>35.909977</td>\n",
       "      <td>33.639030</td>\n",
       "      <td>0.540811</td>\n",
       "      <td>0.395665</td>\n",
       "      <td>00:46</td>\n",
       "    </tr>\n",
       "    <tr>\n",
       "      <td>1</td>\n",
       "      <td>9.407427</td>\n",
       "      <td>6.137264</td>\n",
       "      <td>0.564513</td>\n",
       "      <td>0.392775</td>\n",
       "      <td>00:48</td>\n",
       "    </tr>\n",
       "    <tr>\n",
       "      <td>2</td>\n",
       "      <td>4.319383</td>\n",
       "      <td>3.770583</td>\n",
       "      <td>0.583217</td>\n",
       "      <td>0.403667</td>\n",
       "      <td>00:48</td>\n",
       "    </tr>\n",
       "    <tr>\n",
       "      <td>3</td>\n",
       "      <td>3.366669</td>\n",
       "      <td>3.444857</td>\n",
       "      <td>0.601924</td>\n",
       "      <td>0.409635</td>\n",
       "      <td>00:49</td>\n",
       "    </tr>\n",
       "  </tbody>\n",
       "</table>"
      ],
      "text/plain": [
       "<IPython.core.display.HTML object>"
      ]
     },
     "metadata": {},
     "output_type": "display_data"
    }
   ],
   "source": [
    "learn.fit_one_cycle(4, 3e-2)"
   ]
  },
  {
   "cell_type": "code",
   "execution_count": 41,
   "metadata": {
    "hidden": true
   },
   "outputs": [],
   "source": [
    "learn.save('transformer-fastext')"
   ]
  },
  {
   "cell_type": "markdown",
   "metadata": {
    "heading_collapsed": true
   },
   "source": [
    "### 2.2 ULMFit with transformers\n",
    "\n",
    "I will use the embeddings from [ULMFit](https://arxiv.org/pdf/1801.06146.pdf) in english as the encoder. The decoder layer will be the same but it will also receive spanish embeddings from ULMFit. "
   ]
  },
  {
   "cell_type": "markdown",
   "metadata": {
    "heading_collapsed": true,
    "hidden": true
   },
   "source": [
    "#### 2.2.1 English embeddings\n",
    "\n",
    "We will start with ULMFit's pre-trained model for english and fine-tuned it on our subtitles"
   ]
  },
  {
   "cell_type": "code",
   "execution_count": 186,
   "metadata": {
    "hidden": true
   },
   "outputs": [],
   "source": [
    "path = base_path/'lm_en'"
   ]
  },
  {
   "cell_type": "code",
   "execution_count": 187,
   "metadata": {
    "hidden": true
   },
   "outputs": [],
   "source": [
    "data_lm = (\n",
    "    TextList\n",
    "        .from_df(df, path=path, cols='en')\n",
    "        .split_by_rand_pct(0.1, seed=42)  # We randomly split for validation\n",
    "        .label_for_lm()  # We want to do a language model so we label accordingly\n",
    "        .databunch(bs=48, num_workers=12))"
   ]
  },
  {
   "cell_type": "code",
   "execution_count": 188,
   "metadata": {
    "hidden": true
   },
   "outputs": [],
   "source": [
    "data_lm.save()"
   ]
  },
  {
   "cell_type": "code",
   "execution_count": 109,
   "metadata": {
    "hidden": true
   },
   "outputs": [],
   "source": [
    "data_lm = load_data(path, bs=48)"
   ]
  },
  {
   "cell_type": "code",
   "execution_count": 189,
   "metadata": {
    "hidden": true
   },
   "outputs": [
    {
     "data": {
      "text/plain": [
       "SequentialRNN(\n",
       "  (0): AWD_LSTM(\n",
       "    (encoder): Embedding(25784, 400, padding_idx=1)\n",
       "    (encoder_dp): EmbeddingDropout(\n",
       "      (emb): Embedding(25784, 400, padding_idx=1)\n",
       "    )\n",
       "    (rnns): ModuleList(\n",
       "      (0): WeightDropout(\n",
       "        (module): LSTM(400, 1152, batch_first=True)\n",
       "      )\n",
       "      (1): WeightDropout(\n",
       "        (module): LSTM(1152, 1152, batch_first=True)\n",
       "      )\n",
       "      (2): WeightDropout(\n",
       "        (module): LSTM(1152, 400, batch_first=True)\n",
       "      )\n",
       "    )\n",
       "    (input_dp): RNNDropout()\n",
       "    (hidden_dps): ModuleList(\n",
       "      (0): RNNDropout()\n",
       "      (1): RNNDropout()\n",
       "      (2): RNNDropout()\n",
       "    )\n",
       "  )\n",
       "  (1): LinearDecoder(\n",
       "    (decoder): Linear(in_features=400, out_features=25784, bias=True)\n",
       "    (output_dp): RNNDropout()\n",
       "  )\n",
       ")"
      ]
     },
     "execution_count": 189,
     "metadata": {},
     "output_type": "execute_result"
    }
   ],
   "source": [
    "learn_lm = language_model_learner(data_lm, AWD_LSTM, drop_mult=1.0)\n",
    "learn_lm.model"
   ]
  },
  {
   "cell_type": "code",
   "execution_count": 190,
   "metadata": {
    "hidden": true
   },
   "outputs": [
    {
     "data": {
      "text/html": [],
      "text/plain": [
       "<IPython.core.display.HTML object>"
      ]
     },
     "metadata": {},
     "output_type": "display_data"
    },
    {
     "name": "stdout",
     "output_type": "stream",
     "text": [
      "LR Finder is complete, type {learner_name}.recorder.plot() to see the graph.\n"
     ]
    }
   ],
   "source": [
    "learn_lm.lr_find()"
   ]
  },
  {
   "cell_type": "code",
   "execution_count": 191,
   "metadata": {
    "hidden": true
   },
   "outputs": [
    {
     "name": "stdout",
     "output_type": "stream",
     "text": [
      "Min numerical gradient: 3.98E-02\n",
      "Min loss divided by 10: 3.63E-02\n"
     ]
    },
    {
     "data": {
      "image/png": "[encoded data removed]",
      "text/plain": [
       "<Figure size 432x288 with 1 Axes>"
      ]
     },
     "metadata": {
      "needs_background": "light"
     },
     "output_type": "display_data"
    }
   ],
   "source": [
    "learn_lm.recorder.plot(suggestion=True)"
   ]
  },
  {
   "cell_type": "code",
   "execution_count": 192,
   "metadata": {
    "hidden": true,
    "scrolled": false
   },
   "outputs": [
    {
     "data": {
      "text/html": [
       "<table border=\"1\" class=\"dataframe\">\n",
       "  <thead>\n",
       "    <tr style=\"text-align: left;\">\n",
       "      <th>epoch</th>\n",
       "      <th>train_loss</th>\n",
       "      <th>valid_loss</th>\n",
       "      <th>accuracy</th>\n",
       "      <th>time</th>\n",
       "    </tr>\n",
       "  </thead>\n",
       "  <tbody>\n",
       "    <tr>\n",
       "      <td>0</td>\n",
       "      <td>5.728145</td>\n",
       "      <td>4.841912</td>\n",
       "      <td>0.301525</td>\n",
       "      <td>04:02</td>\n",
       "    </tr>\n",
       "    <tr>\n",
       "      <td>1</td>\n",
       "      <td>4.292948</td>\n",
       "      <td>3.955799</td>\n",
       "      <td>0.335768</td>\n",
       "      <td>04:06</td>\n",
       "    </tr>\n",
       "  </tbody>\n",
       "</table>"
      ],
      "text/plain": [
       "<IPython.core.display.HTML object>"
      ]
     },
     "metadata": {},
     "output_type": "display_data"
    }
   ],
   "source": [
    "learn_lm.fit_one_cycle(2, 3e-1, moms=(0.8,0.7))"
   ]
  },
  {
   "cell_type": "code",
   "execution_count": 193,
   "metadata": {
    "hidden": true
   },
   "outputs": [],
   "source": [
    "learn_lm.save(f'en_fine_tuned_1')"
   ]
  },
  {
   "cell_type": "code",
   "execution_count": 194,
   "metadata": {
    "hidden": true,
    "scrolled": true
   },
   "outputs": [
    {
     "data": {
      "text/html": [
       "<table border=\"1\" class=\"dataframe\">\n",
       "  <thead>\n",
       "    <tr style=\"text-align: left;\">\n",
       "      <th>epoch</th>\n",
       "      <th>train_loss</th>\n",
       "      <th>valid_loss</th>\n",
       "      <th>accuracy</th>\n",
       "      <th>time</th>\n",
       "    </tr>\n",
       "  </thead>\n",
       "  <tbody>\n",
       "    <tr>\n",
       "      <td>0</td>\n",
       "      <td>3.777594</td>\n",
       "      <td>3.648559</td>\n",
       "      <td>0.367891</td>\n",
       "      <td>04:59</td>\n",
       "    </tr>\n",
       "    <tr>\n",
       "      <td>1</td>\n",
       "      <td>3.603667</td>\n",
       "      <td>3.507471</td>\n",
       "      <td>0.382600</td>\n",
       "      <td>05:01</td>\n",
       "    </tr>\n",
       "    <tr>\n",
       "      <td>2</td>\n",
       "      <td>3.531927</td>\n",
       "      <td>3.433340</td>\n",
       "      <td>0.390342</td>\n",
       "      <td>05:02</td>\n",
       "    </tr>\n",
       "    <tr>\n",
       "      <td>3</td>\n",
       "      <td>3.480464</td>\n",
       "      <td>3.387439</td>\n",
       "      <td>0.394144</td>\n",
       "      <td>05:01</td>\n",
       "    </tr>\n",
       "    <tr>\n",
       "      <td>4</td>\n",
       "      <td>3.395352</td>\n",
       "      <td>3.348521</td>\n",
       "      <td>0.397989</td>\n",
       "      <td>05:01</td>\n",
       "    </tr>\n",
       "    <tr>\n",
       "      <td>5</td>\n",
       "      <td>3.317074</td>\n",
       "      <td>3.316249</td>\n",
       "      <td>0.401825</td>\n",
       "      <td>05:02</td>\n",
       "    </tr>\n",
       "    <tr>\n",
       "      <td>6</td>\n",
       "      <td>3.219466</td>\n",
       "      <td>3.301881</td>\n",
       "      <td>0.404282</td>\n",
       "      <td>05:02</td>\n",
       "    </tr>\n",
       "    <tr>\n",
       "      <td>7</td>\n",
       "      <td>3.172760</td>\n",
       "      <td>3.305299</td>\n",
       "      <td>0.404410</td>\n",
       "      <td>05:01</td>\n",
       "    </tr>\n",
       "  </tbody>\n",
       "</table>"
      ],
      "text/plain": [
       "<IPython.core.display.HTML object>"
      ]
     },
     "metadata": {},
     "output_type": "display_data"
    }
   ],
   "source": [
    "learn_lm.unfreeze()\n",
    "learn_lm.fit_one_cycle(8, slice(3e-2/(2.6**4), 3e-2), moms=(0.8,0.7))"
   ]
  },
  {
   "cell_type": "code",
   "execution_count": 195,
   "metadata": {
    "hidden": true
   },
   "outputs": [],
   "source": [
    "learn_lm.save(f'en_fine_tuned')\n",
    "learn_lm.save_encoder(f'en_fine_tuned_enc')"
   ]
  },
  {
   "cell_type": "code",
   "execution_count": 111,
   "metadata": {
    "hidden": true
   },
   "outputs": [],
   "source": [
    "learn_lm.load(f'en_fine_tuned')\n",
    "learn_lm.load_encoder(f'en_fine_tuned_enc')"
   ]
  },
  {
   "cell_type": "code",
   "execution_count": 196,
   "metadata": {
    "hidden": true
   },
   "outputs": [],
   "source": [
    "encoder = get_model(learn_lm.model)[0]"
   ]
  },
  {
   "cell_type": "code",
   "execution_count": 197,
   "metadata": {
    "hidden": true
   },
   "outputs": [],
   "source": [
    "with open(base_path/'ulm_en_enc.pkl', 'wb') as f:\n",
    "    torch.save(encoder,f)"
   ]
  },
  {
   "cell_type": "markdown",
   "metadata": {
    "heading_collapsed": true,
    "hidden": true
   },
   "source": [
    "#### 2.2.2 Spanish embeddings\n",
    "\n",
    "We'll do the same for spanish, in this case the pre-trained spanish LM was trained by me on [this notebook](./nn-spanish.ipynb)"
   ]
  },
  {
   "cell_type": "code",
   "execution_count": 203,
   "metadata": {
    "hidden": true
   },
   "outputs": [],
   "source": [
    "del data_lm\n",
    "del learn_lm\n",
    "import gc\n",
    "gc.collect()\n",
    "torch.cuda.empty_cache()"
   ]
  },
  {
   "cell_type": "code",
   "execution_count": 198,
   "metadata": {
    "hidden": true
   },
   "outputs": [],
   "source": [
    "path = base_path/'lm_es'"
   ]
  },
  {
   "cell_type": "code",
   "execution_count": 199,
   "metadata": {
    "hidden": true
   },
   "outputs": [],
   "source": [
    "data_lm_es = (\n",
    "    TextList\n",
    "        .from_df(df, path=path, cols='es')\n",
    "        .split_by_rand_pct(0.1, seed=42)  # We randomly split and keep 10% for validation\n",
    "        .label_for_lm()  # We want to do a language model so we label accordingly\n",
    "        .databunch(bs=48, num_workers=12))"
   ]
  },
  {
   "cell_type": "code",
   "execution_count": 200,
   "metadata": {
    "hidden": true
   },
   "outputs": [],
   "source": [
    "data_lm_es.save()"
   ]
  },
  {
   "cell_type": "code",
   "execution_count": 116,
   "metadata": {
    "hidden": true
   },
   "outputs": [],
   "source": [
    "data_lm_es = load_data(path, bs=48)"
   ]
  },
  {
   "cell_type": "code",
   "execution_count": 201,
   "metadata": {
    "hidden": true
   },
   "outputs": [],
   "source": [
    "learn_lm_es = language_model_learner(data_lm_es, AWD_LSTM, pretrained_fnames=[f'es_wt', f'es_wt_vocab'], drop_mult=1.0)"
   ]
  },
  {
   "cell_type": "code",
   "execution_count": 202,
   "metadata": {
    "hidden": true
   },
   "outputs": [
    {
     "data": {
      "text/html": [],
      "text/plain": [
       "<IPython.core.display.HTML object>"
      ]
     },
     "metadata": {},
     "output_type": "display_data"
    },
    {
     "name": "stdout",
     "output_type": "stream",
     "text": [
      "LR Finder is complete, type {learner_name}.recorder.plot() to see the graph.\n"
     ]
    }
   ],
   "source": [
    "learn_lm_es.lr_find()"
   ]
  },
  {
   "cell_type": "code",
   "execution_count": 204,
   "metadata": {
    "hidden": true
   },
   "outputs": [
    {
     "name": "stdout",
     "output_type": "stream",
     "text": [
      "Min numerical gradient: 5.75E-02\n",
      "Min loss divided by 10: 3.63E-02\n"
     ]
    },
    {
     "data": {
      "image/png": "[encoded data removed]",
      "text/plain": [
       "<Figure size 432x288 with 1 Axes>"
      ]
     },
     "metadata": {
      "needs_background": "light"
     },
     "output_type": "display_data"
    }
   ],
   "source": [
    "learn_lm_es.recorder.plot(suggestion=True)"
   ]
  },
  {
   "cell_type": "code",
   "execution_count": 205,
   "metadata": {
    "hidden": true
   },
   "outputs": [
    {
     "data": {
      "text/html": [
       "<table border=\"1\" class=\"dataframe\">\n",
       "  <thead>\n",
       "    <tr style=\"text-align: left;\">\n",
       "      <th>epoch</th>\n",
       "      <th>train_loss</th>\n",
       "      <th>valid_loss</th>\n",
       "      <th>accuracy</th>\n",
       "      <th>time</th>\n",
       "    </tr>\n",
       "  </thead>\n",
       "  <tbody>\n",
       "    <tr>\n",
       "      <td>0</td>\n",
       "      <td>6.161613</td>\n",
       "      <td>5.348360</td>\n",
       "      <td>0.287702</td>\n",
       "      <td>04:24</td>\n",
       "    </tr>\n",
       "    <tr>\n",
       "      <td>1</td>\n",
       "      <td>4.578285</td>\n",
       "      <td>4.179093</td>\n",
       "      <td>0.330367</td>\n",
       "      <td>04:29</td>\n",
       "    </tr>\n",
       "  </tbody>\n",
       "</table>"
      ],
      "text/plain": [
       "<IPython.core.display.HTML object>"
      ]
     },
     "metadata": {},
     "output_type": "display_data"
    }
   ],
   "source": [
    "learn_lm_es.fit_one_cycle(2, 3e-1, moms=(0.8,0.7))"
   ]
  },
  {
   "cell_type": "code",
   "execution_count": 206,
   "metadata": {
    "hidden": true
   },
   "outputs": [],
   "source": [
    "learn_lm_es.save(f'es_fine_tuned_1')"
   ]
  },
  {
   "cell_type": "code",
   "execution_count": null,
   "metadata": {
    "hidden": true,
    "scrolled": true
   },
   "outputs": [
    {
     "data": {
      "text/html": [
       "\n",
       "    <div>\n",
       "        <style>\n",
       "            /* Turns off some styling */\n",
       "            progress {\n",
       "                /* gets rid of default border in Firefox and Opera. */\n",
       "                border: none;\n",
       "                /* Needs to be in here for Safari polyfill so background images work as expected. */\n",
       "                background-size: auto;\n",
       "            }\n",
       "            .progress-bar-interrupted, .progress-bar-interrupted::-webkit-progress-bar {\n",
       "                background: #F44336;\n",
       "            }\n",
       "        </style>\n",
       "      <progress value='4' class='' max='8', style='width:300px; height:20px; vertical-align: middle;'></progress>\n",
       "      50.00% [4/8 21:26<21:26]\n",
       "    </div>\n",
       "    \n",
       "<table border=\"1\" class=\"dataframe\">\n",
       "  <thead>\n",
       "    <tr style=\"text-align: left;\">\n",
       "      <th>epoch</th>\n",
       "      <th>train_loss</th>\n",
       "      <th>valid_loss</th>\n",
       "      <th>accuracy</th>\n",
       "      <th>time</th>\n",
       "    </tr>\n",
       "  </thead>\n",
       "  <tbody>\n",
       "    <tr>\n",
       "      <td>0</td>\n",
       "      <td>4.046064</td>\n",
       "      <td>3.888487</td>\n",
       "      <td>0.355104</td>\n",
       "      <td>05:21</td>\n",
       "    </tr>\n",
       "    <tr>\n",
       "      <td>1</td>\n",
       "      <td>3.848106</td>\n",
       "      <td>3.719486</td>\n",
       "      <td>0.372208</td>\n",
       "      <td>05:21</td>\n",
       "    </tr>\n",
       "    <tr>\n",
       "      <td>2</td>\n",
       "      <td>3.753581</td>\n",
       "      <td>3.634134</td>\n",
       "      <td>0.379355</td>\n",
       "      <td>05:21</td>\n",
       "    </tr>\n",
       "    <tr>\n",
       "      <td>3</td>\n",
       "      <td>3.684632</td>\n",
       "      <td>3.581652</td>\n",
       "      <td>0.383838</td>\n",
       "      <td>05:21</td>\n",
       "    </tr>\n",
       "  </tbody>\n",
       "</table><p>\n",
       "\n",
       "    <div>\n",
       "        <style>\n",
       "            /* Turns off some styling */\n",
       "            progress {\n",
       "                /* gets rid of default border in Firefox and Opera. */\n",
       "                border: none;\n",
       "                /* Needs to be in here for Safari polyfill so background images work as expected. */\n",
       "                background-size: auto;\n",
       "            }\n",
       "            .progress-bar-interrupted, .progress-bar-interrupted::-webkit-progress-bar {\n",
       "                background: #F44336;\n",
       "            }\n",
       "        </style>\n",
       "      <progress value='1356' class='' max='1359', style='width:300px; height:20px; vertical-align: middle;'></progress>\n",
       "      99.78% [1356/1359 05:09<00:00 3.6147]\n",
       "    </div>\n",
       "    "
      ],
      "text/plain": [
       "<IPython.core.display.HTML object>"
      ]
     },
     "metadata": {},
     "output_type": "display_data"
    }
   ],
   "source": [
    "learn_lm_es.unfreeze()\n",
    "learn_lm_es.fit_one_cycle(8, slice(3e-2/(2.6**4), 3e-2), moms=(0.8,0.7))"
   ]
  },
  {
   "cell_type": "code",
   "execution_count": null,
   "metadata": {
    "hidden": true
   },
   "outputs": [],
   "source": [
    "learn_lm_es.save(f'es_fine_tuned')\n",
    "learn_lm_es.save_encoder(f'es_fine_tuned_enc')"
   ]
  },
  {
   "cell_type": "code",
   "execution_count": 118,
   "metadata": {
    "hidden": true
   },
   "outputs": [],
   "source": [
    "learn_lm_es.load(f'es_fine_tuned')\n",
    "learn_lm_es.load_encoder(f'es_fine_tuned_enc')"
   ]
  },
  {
   "cell_type": "code",
   "execution_count": null,
   "metadata": {
    "hidden": true
   },
   "outputs": [],
   "source": [
    "encoder = get_model(learn_lm_es.model)[0]"
   ]
  },
  {
   "cell_type": "code",
   "execution_count": null,
   "metadata": {
    "hidden": true
   },
   "outputs": [],
   "source": [
    "with open(base_path/'ulm_es_enc.pkl', 'wb') as f:\n",
    "    torch.save(encoder,f)"
   ]
  },
  {
   "cell_type": "code",
   "execution_count": 213,
   "metadata": {
    "hidden": true
   },
   "outputs": [],
   "source": [
    "del learn_lm_es\n",
    "del data_lm_es\n",
    "import gc\n",
    "gc.collect()\n",
    "torch.cuda.empty_cache()"
   ]
  },
  {
   "cell_type": "markdown",
   "metadata": {
    "heading_collapsed": true,
    "hidden": true
   },
   "source": [
    "#### 2.2.3 Model"
   ]
  },
  {
   "cell_type": "code",
   "execution_count": 18,
   "metadata": {
    "code_folding": [],
    "hidden": true
   },
   "outputs": [],
   "source": [
    "class ULMEmbedding(nn.Module):\n",
    "    \"Embedding + positional encoding + dropout\"\n",
    "    def __init__(self, ulm_enc, embedding_dim=400, p=0., pos=True):\n",
    "        super().__init__()\n",
    "        self.emb_sz = embedding_dim\n",
    "        self.ulm_enc = ulm_enc\n",
    "        self.pos_enc = None\n",
    "        if pos:\n",
    "            self.pos_enc = PositionalEncoding(self.emb_sz)  # https://github.com/fastai/fastai/blob/1.0.57/fastai/text/models/transformer.py#L11\n",
    "        self.drop = nn.Dropout(p)\n",
    "    \n",
    "    def forward(self, inp): \n",
    "        self.ulm_enc.reset()  # reset hidden state of LSTM\n",
    "        \n",
    "        # take all hidden states of the last layer\n",
    "        hs, _  = self.ulm_enc(inp)\n",
    "        hs = hs[-1]\n",
    "        \n",
    "        if self.pos_enc:\n",
    "            pos = torch.arange(0, inp.size(1), device=inp.device).float()\n",
    "            return self.drop(hs * math.sqrt(self.emb_sz) + self.pos_enc(pos))\n",
    "        else:\n",
    "            return self.drop(hs * math.sqrt(self.emb_sz))\n",
    "    \n",
    "    \n",
    "class Transformer(Module):\n",
    "    def __init__(\n",
    "            self, out_dim, n_layers=6, n_heads=8, d_model=400, d_head=32, \n",
    "            d_inner=1024, p=0.1, bias=True, scale=True, double_drop=True, pad_idx=1, \n",
    "            position_encoder=True):\n",
    "        \n",
    "        with open(base_path/'ulm_en_enc.pkl', 'rb') as f:\n",
    "            self.enc_emb = ULMEmbedding(torch.load(f), p=p)\n",
    "                    \n",
    "        with open(base_path/'ulm_es_enc.pkl', 'rb') as f:\n",
    "            self.dec_emb = ULMEmbedding(torch.load(f), p=0)\n",
    "        \n",
    "        args = (n_heads, d_model, d_head, d_inner, p, bias, scale, double_drop)\n",
    "        self.encoder = nn.ModuleList([EncoderBlock(*args) for _ in range(n_layers)])\n",
    "        self.decoder = nn.ModuleList([DecoderBlock(*args) for _ in range(n_layers)])\n",
    "        \n",
    "        self.out = nn.Linear(d_model, out_dim)\n",
    "        self.pad_idx = pad_idx\n",
    "        \n",
    "    def forward(self, inp, out):\n",
    "        enc = self.encode(inp)\n",
    "        return self.decode(enc, out)\n",
    "    \n",
    "    def encode(self, inp):\n",
    "        enc = self.enc_emb(inp)\n",
    "        return compose(self.encoder)(enc)\n",
    "    \n",
    "    def decode(self, enc, out):\n",
    "        out = self.dec_emb(out)\n",
    "        mask_out = get_output_mask(out, self.pad_idx)\n",
    "        \n",
    "        out = compose(self.decoder)(out, enc, mask_out)\n",
    "        \n",
    "        return self.out(out)"
   ]
  },
  {
   "cell_type": "markdown",
   "metadata": {
    "hidden": true
   },
   "source": [
    "> **Note:** I can use the spanish embeddings without any masking because they only depend on previous words, if they were bi-directional we would be cheating as the embedding of a word could hint the next words in the target sentence"
   ]
  },
  {
   "cell_type": "code",
   "execution_count": 23,
   "metadata": {
    "hidden": true
   },
   "outputs": [],
   "source": [
    "model = Transformer(len(data.y.vocab.itos))"
   ]
  },
  {
   "cell_type": "markdown",
   "metadata": {
    "heading_collapsed": true,
    "hidden": true
   },
   "source": [
    "#### 2.2.4 Training"
   ]
  },
  {
   "cell_type": "code",
   "execution_count": 44,
   "metadata": {
    "hidden": true
   },
   "outputs": [],
   "source": [
    "from fastai.callbacks import EarlyStoppingCallback, SaveModelCallback\n",
    "\n",
    "learn = Learner(\n",
    "    data, model, \n",
    "    loss_func=FlattenedLoss(LabelSmoothingCrossEntropy, axis=-1),\n",
    "    metrics=[accuracy, CorpusBLEU(len(data.y.vocab.itos))],\n",
    "    callback_fns=[partial(EarlyStoppingCallback, monitor='valid_loss', min_delta=0.01, patience=3)],\n",
    ")\n",
    "learn.callbacks.append(SaveModelCallback(\n",
    "    learn, every='improvement', monitor='valid_loss', name='uml-transformer-enc'))"
   ]
  },
  {
   "cell_type": "code",
   "execution_count": 45,
   "metadata": {
    "hidden": true
   },
   "outputs": [
    {
     "data": {
      "text/html": [],
      "text/plain": [
       "<IPython.core.display.HTML object>"
      ]
     },
     "metadata": {},
     "output_type": "display_data"
    },
    {
     "name": "stdout",
     "output_type": "stream",
     "text": [
      "LR Finder is complete, type {learner_name}.recorder.plot() to see the graph.\n",
      "Min numerical gradient: 5.25E-05\n",
      "Min loss divided by 10: 2.75E-03\n"
     ]
    },
    {
     "data": {
      "image/png": "[encoded data removed]",
      "text/plain": [
       "<Figure size 432x288 with 1 Axes>"
      ]
     },
     "metadata": {
      "needs_background": "light"
     },
     "output_type": "display_data"
    }
   ],
   "source": [
    "learn.lr_find()\n",
    "learn.recorder.plot(suggestion=True)"
   ]
  },
  {
   "cell_type": "code",
   "execution_count": 46,
   "metadata": {
    "hidden": true
   },
   "outputs": [
    {
     "data": {
      "text/html": [
       "<table border=\"1\" class=\"dataframe\">\n",
       "  <thead>\n",
       "    <tr style=\"text-align: left;\">\n",
       "      <th>epoch</th>\n",
       "      <th>train_loss</th>\n",
       "      <th>valid_loss</th>\n",
       "      <th>accuracy</th>\n",
       "      <th>bleu</th>\n",
       "      <th>time</th>\n",
       "    </tr>\n",
       "  </thead>\n",
       "  <tbody>\n",
       "    <tr>\n",
       "      <td>0</td>\n",
       "      <td>6.558002</td>\n",
       "      <td>4.477090</td>\n",
       "      <td>0.584353</td>\n",
       "      <td>0.408594</td>\n",
       "      <td>01:38</td>\n",
       "    </tr>\n",
       "    <tr>\n",
       "      <td>1</td>\n",
       "      <td>3.787544</td>\n",
       "      <td>3.464381</td>\n",
       "      <td>0.639028</td>\n",
       "      <td>0.446606</td>\n",
       "      <td>01:41</td>\n",
       "    </tr>\n",
       "    <tr>\n",
       "      <td>2</td>\n",
       "      <td>3.492886</td>\n",
       "      <td>3.223813</td>\n",
       "      <td>0.671886</td>\n",
       "      <td>0.472002</td>\n",
       "      <td>01:39</td>\n",
       "    </tr>\n",
       "    <tr>\n",
       "      <td>3</td>\n",
       "      <td>3.353385</td>\n",
       "      <td>3.184466</td>\n",
       "      <td>0.678727</td>\n",
       "      <td>0.479429</td>\n",
       "      <td>01:41</td>\n",
       "    </tr>\n",
       "  </tbody>\n",
       "</table>"
      ],
      "text/plain": [
       "<IPython.core.display.HTML object>"
      ]
     },
     "metadata": {},
     "output_type": "display_data"
    },
    {
     "name": "stdout",
     "output_type": "stream",
     "text": [
      "Better model found at epoch 0 with valid_loss value: 4.477090358734131.\n",
      "Better model found at epoch 1 with valid_loss value: 3.4643805027008057.\n",
      "Better model found at epoch 2 with valid_loss value: 3.223813056945801.\n",
      "Better model found at epoch 3 with valid_loss value: 3.1844663619995117.\n"
     ]
    }
   ],
   "source": [
    "learn.fit_one_cycle(4, 1e-4)"
   ]
  },
  {
   "cell_type": "markdown",
   "metadata": {
    "heading_collapsed": true
   },
   "source": [
    "### 2.3 Bigger model"
   ]
  },
  {
   "cell_type": "code",
   "execution_count": 19,
   "metadata": {
    "hidden": true,
    "scrolled": true
   },
   "outputs": [],
   "source": [
    "model = Transformer(len(data.y.vocab.itos), n_layers=12, n_heads=12)"
   ]
  },
  {
   "cell_type": "markdown",
   "metadata": {
    "heading_collapsed": true,
    "hidden": true
   },
   "source": [
    "#### 2.3.1 training"
   ]
  },
  {
   "cell_type": "code",
   "execution_count": 18,
   "metadata": {
    "hidden": true
   },
   "outputs": [],
   "source": [
    "from fastai.callbacks import EarlyStoppingCallback, SaveModelCallback\n",
    "\n",
    "learn = Learner(\n",
    "    data, model, \n",
    "    loss_func=FlattenedLoss(LabelSmoothingCrossEntropy, axis=-1),\n",
    "    metrics=[accuracy, CorpusBLEU(len(data.y.vocab.itos))],\n",
    "    callback_fns=[partial(EarlyStoppingCallback, monitor='valid_loss', min_delta=0.01, patience=3)],\n",
    ")\n",
    "learn.callbacks.append(\n",
    "    SaveModelCallback(learn, every='improvement', monitor='valid_loss', name='ulm-transformer-big-enc'))"
   ]
  },
  {
   "cell_type": "code",
   "execution_count": 19,
   "metadata": {
    "hidden": true
   },
   "outputs": [
    {
     "data": {
      "text/html": [],
      "text/plain": [
       "<IPython.core.display.HTML object>"
      ]
     },
     "metadata": {},
     "output_type": "display_data"
    },
    {
     "name": "stdout",
     "output_type": "stream",
     "text": [
      "LR Finder is complete, type {learner_name}.recorder.plot() to see the graph.\n"
     ]
    }
   ],
   "source": [
    "learn.lr_find()"
   ]
  },
  {
   "cell_type": "code",
   "execution_count": 20,
   "metadata": {
    "hidden": true
   },
   "outputs": [
    {
     "name": "stdout",
     "output_type": "stream",
     "text": [
      "Min numerical gradient: 4.37E-05\n",
      "Min loss divided by 10: 1.58E-03\n"
     ]
    },
    {
     "data": {
      "image/png": "[encoded data removed]",
      "text/plain": [
       "<Figure size 432x288 with 1 Axes>"
      ]
     },
     "metadata": {
      "needs_background": "light"
     },
     "output_type": "display_data"
    }
   ],
   "source": [
    "learn.recorder.plot(suggestion=True)"
   ]
  },
  {
   "cell_type": "code",
   "execution_count": 21,
   "metadata": {
    "hidden": true
   },
   "outputs": [
    {
     "data": {
      "text/html": [
       "<table border=\"1\" class=\"dataframe\">\n",
       "  <thead>\n",
       "    <tr style=\"text-align: left;\">\n",
       "      <th>epoch</th>\n",
       "      <th>train_loss</th>\n",
       "      <th>valid_loss</th>\n",
       "      <th>accuracy</th>\n",
       "      <th>bleu</th>\n",
       "      <th>time</th>\n",
       "    </tr>\n",
       "  </thead>\n",
       "  <tbody>\n",
       "    <tr>\n",
       "      <td>0</td>\n",
       "      <td>5.880165</td>\n",
       "      <td>4.530049</td>\n",
       "      <td>0.580322</td>\n",
       "      <td>0.386800</td>\n",
       "      <td>03:07</td>\n",
       "    </tr>\n",
       "    <tr>\n",
       "      <td>1</td>\n",
       "      <td>4.053812</td>\n",
       "      <td>3.560559</td>\n",
       "      <td>0.651603</td>\n",
       "      <td>0.436420</td>\n",
       "      <td>03:09</td>\n",
       "    </tr>\n",
       "    <tr>\n",
       "      <td>2</td>\n",
       "      <td>3.732540</td>\n",
       "      <td>3.336047</td>\n",
       "      <td>0.676306</td>\n",
       "      <td>0.461640</td>\n",
       "      <td>03:08</td>\n",
       "    </tr>\n",
       "    <tr>\n",
       "      <td>3</td>\n",
       "      <td>3.589565</td>\n",
       "      <td>3.249422</td>\n",
       "      <td>0.682652</td>\n",
       "      <td>0.465569</td>\n",
       "      <td>03:07</td>\n",
       "    </tr>\n",
       "  </tbody>\n",
       "</table>"
      ],
      "text/plain": [
       "<IPython.core.display.HTML object>"
      ]
     },
     "metadata": {},
     "output_type": "display_data"
    },
    {
     "name": "stdout",
     "output_type": "stream",
     "text": [
      "Better model found at epoch 0 with valid_loss value: 4.530048847198486.\n",
      "Better model found at epoch 1 with valid_loss value: 3.560558557510376.\n",
      "Better model found at epoch 2 with valid_loss value: 3.3360471725463867.\n",
      "Better model found at epoch 3 with valid_loss value: 3.249422311782837.\n"
     ]
    }
   ],
   "source": [
    "learn.fit_one_cycle(4, 1e-4)"
   ]
  },
  {
   "cell_type": "markdown",
   "metadata": {},
   "source": [
    "### 2.5 more data"
   ]
  },
  {
   "cell_type": "code",
   "execution_count": 4,
   "metadata": {},
   "outputs": [],
   "source": [
    "data = load_data(base_path, base_path/'500k_data.pk', bs=64)"
   ]
  },
  {
   "cell_type": "code",
   "execution_count": 19,
   "metadata": {},
   "outputs": [],
   "source": [
    "model = Transformer(len(data.y.vocab.itos), n_layers=12, n_heads=12)"
   ]
  },
  {
   "cell_type": "code",
   "execution_count": 20,
   "metadata": {},
   "outputs": [],
   "source": [
    "from fastai.callbacks import EarlyStoppingCallback, SaveModelCallback\n",
    "\n",
    "learn = Learner(\n",
    "    data, model, \n",
    "    loss_func=FlattenedLoss(LabelSmoothingCrossEntropy, axis=-1),\n",
    "    metrics=[accuracy, CorpusBLEU(len(data.y.vocab.itos))],\n",
    "    callback_fns=[partial(EarlyStoppingCallback, monitor='valid_loss', min_delta=0.01, patience=3)],\n",
    ")\n",
    "learn.callbacks.append(\n",
    "    SaveModelCallback(learn, every='improvement', monitor='valid_loss', name='best'))"
   ]
  },
  {
   "cell_type": "code",
   "execution_count": 21,
   "metadata": {},
   "outputs": [
    {
     "data": {
      "text/html": [],
      "text/plain": [
       "<IPython.core.display.HTML object>"
      ]
     },
     "metadata": {},
     "output_type": "display_data"
    },
    {
     "name": "stdout",
     "output_type": "stream",
     "text": [
      "LR Finder is complete, type {learner_name}.recorder.plot() to see the graph.\n",
      "Min numerical gradient: 4.79E-04\n",
      "Min loss divided by 10: 1.58E-03\n"
     ]
    },
    {
     "data": {
      "image/png": "[encoded data removed]",
      "text/plain": [
       "<Figure size 432x288 with 1 Axes>"
      ]
     },
     "metadata": {
      "needs_background": "light"
     },
     "output_type": "display_data"
    }
   ],
   "source": [
    "learn.lr_find()\n",
    "learn.recorder.plot(suggestion=True)"
   ]
  },
  {
   "cell_type": "code",
   "execution_count": null,
   "metadata": {},
   "outputs": [
    {
     "data": {
      "text/html": [
       "\n",
       "    <div>\n",
       "        <style>\n",
       "            /* Turns off some styling */\n",
       "            progress {\n",
       "                /* gets rid of default border in Firefox and Opera. */\n",
       "                border: none;\n",
       "                /* Needs to be in here for Safari polyfill so background images work as expected. */\n",
       "                background-size: auto;\n",
       "            }\n",
       "            .progress-bar-interrupted, .progress-bar-interrupted::-webkit-progress-bar {\n",
       "                background: #F44336;\n",
       "            }\n",
       "        </style>\n",
       "      <progress value='3' class='' max='30', style='width:300px; height:20px; vertical-align: middle;'></progress>\n",
       "      10.00% [3/30 1:45:15<15:47:22]\n",
       "    </div>\n",
       "    \n",
       "<table border=\"1\" class=\"dataframe\">\n",
       "  <thead>\n",
       "    <tr style=\"text-align: left;\">\n",
       "      <th>epoch</th>\n",
       "      <th>train_loss</th>\n",
       "      <th>valid_loss</th>\n",
       "      <th>accuracy</th>\n",
       "      <th>bleu</th>\n",
       "      <th>time</th>\n",
       "    </tr>\n",
       "  </thead>\n",
       "  <tbody>\n",
       "    <tr>\n",
       "      <td>0</td>\n",
       "      <td>2.659268</td>\n",
       "      <td>2.650527</td>\n",
       "      <td>0.763749</td>\n",
       "      <td>0.529878</td>\n",
       "      <td>35:06</td>\n",
       "    </tr>\n",
       "    <tr>\n",
       "      <td>1</td>\n",
       "      <td>2.446970</td>\n",
       "      <td>2.509348</td>\n",
       "      <td>0.783937</td>\n",
       "      <td>0.557857</td>\n",
       "      <td>34:34</td>\n",
       "    </tr>\n",
       "    <tr>\n",
       "      <td>2</td>\n",
       "      <td>2.555975</td>\n",
       "      <td>2.535624</td>\n",
       "      <td>0.779521</td>\n",
       "      <td>0.551617</td>\n",
       "      <td>35:32</td>\n",
       "    </tr>\n",
       "  </tbody>\n",
       "</table><p>\n",
       "\n",
       "    <div>\n",
       "        <style>\n",
       "            /* Turns off some styling */\n",
       "            progress {\n",
       "                /* gets rid of default border in Firefox and Opera. */\n",
       "                border: none;\n",
       "                /* Needs to be in here for Safari polyfill so background images work as expected. */\n",
       "                background-size: auto;\n",
       "            }\n",
       "            .progress-bar-interrupted, .progress-bar-interrupted::-webkit-progress-bar {\n",
       "                background: #F44336;\n",
       "            }\n",
       "        </style>\n",
       "      <progress value='4035' class='' max='5754', style='width:300px; height:20px; vertical-align: middle;'></progress>\n",
       "      70.13% [4035/5754 21:35<09:12 2.6632]\n",
       "    </div>\n",
       "    "
      ],
      "text/plain": [
       "<IPython.core.display.HTML object>"
      ]
     },
     "metadata": {},
     "output_type": "display_data"
    },
    {
     "name": "stdout",
     "output_type": "stream",
     "text": [
      "Better model found at epoch 0 with valid_loss value: 2.6505274772644043.\n",
      "Better model found at epoch 1 with valid_loss value: 2.509348154067993.\n"
     ]
    }
   ],
   "source": [
    "learn.fit_one_cycle(30, 3e-3)"
   ]
  },
  {
   "cell_type": "code",
   "execution_count": null,
   "metadata": {},
   "outputs": [],
   "source": []
  },
  {
   "cell_type": "code",
   "execution_count": null,
   "metadata": {},
   "outputs": [],
   "source": []
  },
  {
   "cell_type": "code",
   "execution_count": null,
   "metadata": {},
   "outputs": [],
   "source": []
  },
  {
   "cell_type": "code",
   "execution_count": null,
   "metadata": {},
   "outputs": [],
   "source": []
  },
  {
   "cell_type": "code",
   "execution_count": 22,
   "metadata": {
    "scrolled": true
   },
   "outputs": [
    {
     "data": {
      "text/html": [
       "<table border=\"1\" class=\"dataframe\">\n",
       "  <thead>\n",
       "    <tr style=\"text-align: left;\">\n",
       "      <th>epoch</th>\n",
       "      <th>train_loss</th>\n",
       "      <th>valid_loss</th>\n",
       "      <th>accuracy</th>\n",
       "      <th>bleu</th>\n",
       "      <th>time</th>\n",
       "    </tr>\n",
       "  </thead>\n",
       "  <tbody>\n",
       "    <tr>\n",
       "      <td>0</td>\n",
       "      <td>3.892902</td>\n",
       "      <td>3.785238</td>\n",
       "      <td>0.643308</td>\n",
       "      <td>0.406770</td>\n",
       "      <td>22:09</td>\n",
       "    </tr>\n",
       "    <tr>\n",
       "      <td>1</td>\n",
       "      <td>3.370652</td>\n",
       "      <td>3.214375</td>\n",
       "      <td>0.706582</td>\n",
       "      <td>0.462676</td>\n",
       "      <td>22:50</td>\n",
       "    </tr>\n",
       "    <tr>\n",
       "      <td>2</td>\n",
       "      <td>2.822632</td>\n",
       "      <td>2.835911</td>\n",
       "      <td>0.744514</td>\n",
       "      <td>0.504932</td>\n",
       "      <td>21:26</td>\n",
       "    </tr>\n",
       "    <tr>\n",
       "      <td>3</td>\n",
       "      <td>2.661791</td>\n",
       "      <td>2.620164</td>\n",
       "      <td>0.771951</td>\n",
       "      <td>0.540482</td>\n",
       "      <td>21:23</td>\n",
       "    </tr>\n",
       "    <tr>\n",
       "      <td>4</td>\n",
       "      <td>2.535577</td>\n",
       "      <td>2.507352</td>\n",
       "      <td>0.788304</td>\n",
       "      <td>0.564694</td>\n",
       "      <td>20:40</td>\n",
       "    </tr>\n",
       "    <tr>\n",
       "      <td>5</td>\n",
       "      <td>2.446908</td>\n",
       "      <td>2.429773</td>\n",
       "      <td>0.799433</td>\n",
       "      <td>0.580579</td>\n",
       "      <td>20:44</td>\n",
       "    </tr>\n",
       "    <tr>\n",
       "      <td>6</td>\n",
       "      <td>2.365362</td>\n",
       "      <td>2.387846</td>\n",
       "      <td>0.807118</td>\n",
       "      <td>0.592338</td>\n",
       "      <td>21:26</td>\n",
       "    </tr>\n",
       "    <tr>\n",
       "      <td>7</td>\n",
       "      <td>2.340757</td>\n",
       "      <td>2.349899</td>\n",
       "      <td>0.812553</td>\n",
       "      <td>0.600685</td>\n",
       "      <td>21:04</td>\n",
       "    </tr>\n",
       "    <tr>\n",
       "      <td>8</td>\n",
       "      <td>2.251286</td>\n",
       "      <td>2.321402</td>\n",
       "      <td>0.816426</td>\n",
       "      <td>0.607035</td>\n",
       "      <td>20:59</td>\n",
       "    </tr>\n",
       "    <tr>\n",
       "      <td>9</td>\n",
       "      <td>2.277723</td>\n",
       "      <td>2.304233</td>\n",
       "      <td>0.820483</td>\n",
       "      <td>0.613846</td>\n",
       "      <td>20:49</td>\n",
       "    </tr>\n",
       "    <tr>\n",
       "      <td>10</td>\n",
       "      <td>2.240987</td>\n",
       "      <td>2.289672</td>\n",
       "      <td>0.822513</td>\n",
       "      <td>0.616925</td>\n",
       "      <td>21:16</td>\n",
       "    </tr>\n",
       "    <tr>\n",
       "      <td>11</td>\n",
       "      <td>2.246383</td>\n",
       "      <td>2.275280</td>\n",
       "      <td>0.824539</td>\n",
       "      <td>0.620114</td>\n",
       "      <td>21:06</td>\n",
       "    </tr>\n",
       "    <tr>\n",
       "      <td>12</td>\n",
       "      <td>2.182068</td>\n",
       "      <td>2.269766</td>\n",
       "      <td>0.826030</td>\n",
       "      <td>0.622302</td>\n",
       "      <td>20:53</td>\n",
       "    </tr>\n",
       "    <tr>\n",
       "      <td>13</td>\n",
       "      <td>2.259733</td>\n",
       "      <td>2.255371</td>\n",
       "      <td>0.828161</td>\n",
       "      <td>0.625584</td>\n",
       "      <td>21:18</td>\n",
       "    </tr>\n",
       "    <tr>\n",
       "      <td>14</td>\n",
       "      <td>2.221997</td>\n",
       "      <td>2.249918</td>\n",
       "      <td>0.829227</td>\n",
       "      <td>0.627510</td>\n",
       "      <td>20:46</td>\n",
       "    </tr>\n",
       "    <tr>\n",
       "      <td>15</td>\n",
       "      <td>2.221408</td>\n",
       "      <td>2.246905</td>\n",
       "      <td>0.830200</td>\n",
       "      <td>0.629214</td>\n",
       "      <td>21:05</td>\n",
       "    </tr>\n",
       "    <tr>\n",
       "      <td>16</td>\n",
       "      <td>2.168003</td>\n",
       "      <td>2.245991</td>\n",
       "      <td>0.830730</td>\n",
       "      <td>0.629919</td>\n",
       "      <td>21:07</td>\n",
       "    </tr>\n",
       "    <tr>\n",
       "      <td>17</td>\n",
       "      <td>2.194875</td>\n",
       "      <td>2.243672</td>\n",
       "      <td>0.831293</td>\n",
       "      <td>0.631017</td>\n",
       "      <td>20:43</td>\n",
       "    </tr>\n",
       "    <tr>\n",
       "      <td>18</td>\n",
       "      <td>2.171006</td>\n",
       "      <td>2.245874</td>\n",
       "      <td>0.831400</td>\n",
       "      <td>0.631057</td>\n",
       "      <td>21:17</td>\n",
       "    </tr>\n",
       "    <tr>\n",
       "      <td>19</td>\n",
       "      <td>2.141788</td>\n",
       "      <td>2.245944</td>\n",
       "      <td>0.831451</td>\n",
       "      <td>0.631112</td>\n",
       "      <td>20:42</td>\n",
       "    </tr>\n",
       "  </tbody>\n",
       "</table>"
      ],
      "text/plain": [
       "<IPython.core.display.HTML object>"
      ]
     },
     "metadata": {},
     "output_type": "display_data"
    },
    {
     "name": "stdout",
     "output_type": "stream",
     "text": [
      "Better model found at epoch 0 with valid_loss value: 3.7852375507354736.\n"
     ]
    },
    {
     "name": "stderr",
     "output_type": "stream",
     "text": [
      "IOPub message rate exceeded.\n",
      "The notebook server will temporarily stop sending output\n",
      "to the client in order to avoid crashing it.\n",
      "To change this limit, set the config variable\n",
      "`--NotebookApp.iopub_msg_rate_limit`.\n",
      "\n",
      "Current values:\n",
      "NotebookApp.iopub_msg_rate_limit=1000.0 (msgs/sec)\n",
      "NotebookApp.rate_limit_window=3.0 (secs)\n",
      "\n"
     ]
    },
    {
     "name": "stdout",
     "output_type": "stream",
     "text": [
      "Better model found at epoch 1 with valid_loss value: 3.2143747806549072.\n",
      "Better model found at epoch 2 with valid_loss value: 2.8359107971191406.\n",
      "Better model found at epoch 3 with valid_loss value: 2.620164155960083.\n",
      "Better model found at epoch 4 with valid_loss value: 2.5073516368865967.\n",
      "Better model found at epoch 5 with valid_loss value: 2.4297730922698975.\n",
      "Better model found at epoch 6 with valid_loss value: 2.3878464698791504.\n",
      "Better model found at epoch 7 with valid_loss value: 2.34989857673645.\n",
      "Better model found at epoch 8 with valid_loss value: 2.321401596069336.\n",
      "Better model found at epoch 9 with valid_loss value: 2.3042333126068115.\n",
      "Better model found at epoch 10 with valid_loss value: 2.2896721363067627.\n",
      "Better model found at epoch 11 with valid_loss value: 2.2752795219421387.\n",
      "Better model found at epoch 12 with valid_loss value: 2.269766330718994.\n",
      "Better model found at epoch 13 with valid_loss value: 2.25537109375.\n",
      "Better model found at epoch 14 with valid_loss value: 2.24991774559021.\n",
      "Better model found at epoch 15 with valid_loss value: 2.2469053268432617.\n",
      "Better model found at epoch 16 with valid_loss value: 2.245990753173828.\n",
      "Better model found at epoch 17 with valid_loss value: 2.2436716556549072.\n"
     ]
    }
   ],
   "source": [
    "learn.fit_one_cycle(20, 1e-4)"
   ]
  },
  {
   "cell_type": "markdown",
   "metadata": {
    "heading_collapsed": true
   },
   "source": [
    "### Cualitative analysis"
   ]
  },
  {
   "cell_type": "code",
   "execution_count": 25,
   "metadata": {
    "hidden": true
   },
   "outputs": [],
   "source": [
    "learn.load('ulm-transformer-bigger');"
   ]
  },
  {
   "cell_type": "code",
   "execution_count": 23,
   "metadata": {
    "hidden": true
   },
   "outputs": [],
   "source": [
    "model.cpu();\n",
    "model.eval();"
   ]
  },
  {
   "cell_type": "code",
   "execution_count": 24,
   "metadata": {
    "hidden": true
   },
   "outputs": [],
   "source": [
    "def greedy_decode(\n",
    "        inp, \n",
    "        unk_idx=0, \n",
    "        pad_idx=1,\n",
    "        bos_idx=2, \n",
    "        no_unk=True):\n",
    "    \n",
    "    enc = model.encode(inp)\n",
    "    \n",
    "    ys = torch.ones(1, 1).fill_(bos_idx).type_as(inp.data)\n",
    "    next_word = None\n",
    "    while next_word != pad_idx:\n",
    "        out = model.decode(enc, ys)\n",
    "        if no_unk:\n",
    "            out[0][-1][unk_idx] = -float('Inf')\n",
    "            \n",
    "        next_word = out[0][-1].argmax(0)\n",
    "        next_word = next_word.data\n",
    "        ys = torch.cat([ys, \n",
    "                        torch.tensor([[next_word]]).long()\n",
    "                       ], dim=1)\n",
    "    return ys"
   ]
  },
  {
   "cell_type": "code",
   "execution_count": 25,
   "metadata": {
    "hidden": true
   },
   "outputs": [],
   "source": [
    "def beam_decode(inp, bos_idx=2, unk_idx=0, pad_idx=1, beam_size=5, nucleus=0.3, no_unk=False):\n",
    "    enc = model.encode(inp)\n",
    "    \n",
    "    finised = []  # finished phrases\n",
    "    next_word = None\n",
    "    current_ys = [(inp.new_zeros([1]).long() + bos_idx, 0)]\n",
    "    while current_ys:\n",
    "        next_ys = []\n",
    "        for ys, path_score in current_ys:\n",
    "            out = model.decode(enc, ys.unsqueeze(0))\n",
    "            probs = F.softmax(out[0, -1], dim=-1)\n",
    "            \n",
    "            if no_unk:\n",
    "                probs[unk_idx] = -float('Inf')\n",
    "            \n",
    "            likely = select_nucleus(probs, p=nucleus)\n",
    "            chosen_words = random.sample(likely, k=min(beam_size, len(likely)))\n",
    "            \n",
    "            for y in chosen_words:\n",
    "                phrase = torch.cat([ys, y.unsqueeze(0).long()], dim=0)\n",
    "                \n",
    "                score = path_score + torch.log(probs[y])\n",
    "                \n",
    "                if y == pad_idx or len(phrase) > 20:\n",
    "                    finised.append((phrase, score))\n",
    "                else:\n",
    "                    next_ys.append((phrase, score))\n",
    "                \n",
    "        current_ys = sorted(next_ys, key=lambda k: k[1], reverse=True)[:beam_size]\n",
    "    return sorted(finised, key=lambda k: k[1]/len(k[0]), reverse=True)[0][0]"
   ]
  },
  {
   "cell_type": "code",
   "execution_count": 31,
   "metadata": {
    "hidden": true
   },
   "outputs": [
    {
     "name": "stdout",
     "output_type": "stream",
     "text": [
      "I live my life a quarter mile at a time.\n",
      "~~~~~~~~~~ greedy ~~~~~~~~~~\n",
      "Vivo mi vida un cuarto de cuarto en un momento .\n",
      "~~~~~~~~~~  beam  ~~~~~~~~~~\n",
      "Vivo mi vida un cuarto de cuarto en un momento .\n",
      "==================================================\n",
      "\n",
      "Why so serious?\n",
      "~~~~~~~~~~ greedy ~~~~~~~~~~\n",
      "¿ Por qué tan serio ?\n",
      "~~~~~~~~~~  beam  ~~~~~~~~~~\n",
      "¿ Por qué tan serio ?\n",
      "==================================================\n",
      "\n",
      "I will look for you, I will find you, and I will kill you.\n",
      "~~~~~~~~~~ greedy ~~~~~~~~~~\n",
      "Te veré , te encontraré , y te mataré .\n",
      "~~~~~~~~~~  beam  ~~~~~~~~~~\n",
      "Te voy a buscar , te encontraré , y te mataré .\n",
      "==================================================\n",
      "\n",
      "With great power comes great responsibility.I don't like sand. It's all coarse, and rough, and irritating. And it gets everywhere.\n",
      "~~~~~~~~~~ greedy ~~~~~~~~~~\n",
      "Con gran poder viene genial , hago un gran responsabilidad y es todo lo que se , y es todo lo que se hace .\n",
      "~~~~~~~~~~  beam  ~~~~~~~~~~\n",
      "Con gran poder viene genial , hago una gran responsabilidad y todo se ve en todas partes , y\n",
      "==================================================\n",
      "\n",
      "A census taker once tried to test me. I ate his liver with some fava beans and a nice Chianti.\n",
      "~~~~~~~~~~ greedy ~~~~~~~~~~\n",
      "Una vez me intentó una vez intentó probar sus secretos con un Un poco de\n",
      "~~~~~~~~~~  beam  ~~~~~~~~~~\n",
      "Una vez me intentó probar una vez me he comido su abrigo con un buen partido y un buen\n",
      "==================================================\n",
      "\n",
      "I have had it with these motherfucking snakes on this motherfucking plane!\n",
      "~~~~~~~~~~ greedy ~~~~~~~~~~\n",
      "Lo he tenido con estas fiestas de esta avión de la CIA !\n",
      "~~~~~~~~~~  beam  ~~~~~~~~~~\n",
      "Lo he tenido con estas fiestas de este avión ¡ en este avión avión !\n",
      "==================================================\n",
      "\n",
      "I want to play a game.\n",
      "~~~~~~~~~~ greedy ~~~~~~~~~~\n",
      "Quiero jugar un juego .\n",
      "~~~~~~~~~~  beam  ~~~~~~~~~~\n",
      "Quiero jugar un juego .\n",
      "==================================================\n",
      "\n",
      "They may take our lives, but they'll never take our freedom!\n",
      "~~~~~~~~~~ greedy ~~~~~~~~~~\n",
      "Pueden tomar nuestras vidas , pero nunca van a tomar nuestra libertad !\n",
      "~~~~~~~~~~  beam  ~~~~~~~~~~\n",
      "Pueden tomar nuestras vidas , pero nunca van a tomar nuestra libertad !\n",
      "==================================================\n",
      "\n",
      "I see dead people.\n",
      "~~~~~~~~~~ greedy ~~~~~~~~~~\n",
      "Veo gente muerta .\n",
      "~~~~~~~~~~  beam  ~~~~~~~~~~\n",
      "Veo gente muerta .\n",
      "==================================================\n",
      "\n",
      "Houston, we have a problem.\n",
      "~~~~~~~~~~ greedy ~~~~~~~~~~\n",
      "Houston , tenemos un problema .\n",
      "~~~~~~~~~~  beam  ~~~~~~~~~~\n",
      "Houston , tenemos un problema .\n",
      "==================================================\n",
      "\n"
     ]
    }
   ],
   "source": [
    "tokenizer = Tokenizer()\n",
    "tok = SpacyTokenizer('en')\n",
    "\n",
    "def show_predictions():\n",
    "    for x in random.sample(test_phrases, 10):\n",
    "        x = torch.tensor([[data.x.vocab.stoi[t] for t in tokenizer.process_text(x, tok)]])\n",
    "        print('~' * 10 + ' greedy ' + '~' * 10)\n",
    "        print(pretty(data.x.reconstruct(x[0])))\n",
    "        print(pretty(data.y.reconstruct(greedy_decode(x)[0])))\n",
    "        print('~' * 10 + '  beam  ' + '~' * 10)\n",
    "        print(pretty(data.y.reconstruct(beam_decode(x, no_unk=True))))\n",
    "        print('=' * 50 + '\\n')\n",
    "show_predictions()"
   ]
  }
 ],
 "metadata": {
  "kernelspec": {
   "display_name": "Python 3",
   "language": "python",
   "name": "python3"
  },
  "language_info": {
   "codemirror_mode": {
    "name": "ipython",
    "version": 3
   },
   "file_extension": ".py",
   "mimetype": "text/x-python",
   "name": "python",
   "nbconvert_exporter": "python",
   "pygments_lexer": "ipython3",
   "version": "3.6.8"
  }
 },
 "nbformat": 4,
 "nbformat_minor": 2
}
